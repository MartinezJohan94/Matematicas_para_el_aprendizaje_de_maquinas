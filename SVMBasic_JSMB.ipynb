{
  "nbformat": 4,
  "nbformat_minor": 0,
  "metadata": {
    "colab": {
      "provenance": [],
      "include_colab_link": true
    },
    "kernelspec": {
      "name": "python3",
      "display_name": "Python 3"
    },
    "language_info": {
      "name": "python"
    }
  },
  "cells": [
    {
      "cell_type": "markdown",
      "metadata": {
        "id": "view-in-github",
        "colab_type": "text"
      },
      "source": [
        "<a href=\"https://colab.research.google.com/github/MartinezJohan94/Matematicas_para_el_aprendizaje_de_maquinas/blob/main/SVMBasic_JSMB.ipynb\" target=\"_parent\"><img src=\"https://colab.research.google.com/assets/colab-badge.svg\" alt=\"Open In Colab\"/></a>"
      ]
    },
    {
      "cell_type": "markdown",
      "source": [
        "# Taller 1 (Johan Sebástian Martínez Benítez)\n",
        "\n",
        "For this assignment you will use the following SVM implementation for classifying these datasets:\n",
        "https://archive.ics.uci.edu/ml/datasets/banknote+authentication\n",
        "\n",
        "https://archive.ics.uci.edu/ml/datasets/Occupancy+Detection+\n",
        "\n",
        "You should:\n",
        "\n",
        "1) Specify which Machine Learning problem are you solving.\n",
        "\n",
        "2) Provide a short summary of the features and the labels you are working on.\n",
        "\n",
        "3) Please answer the following questions: a) Are these datasets linearly separable? b) Are these datasets randomly chosen and c) The sample size is enough to guarantee generalization.\n",
        "\n",
        "4) Provide an explanation how and why the code is working. You can add comments and/or formal explanations into the notebook.\n",
        "\n",
        "5) Show some examples to illustrate that the method is working properly.\n",
        "\n",
        "6) Provide quantitative evidence for generalization using the provided dataset.\n"
      ],
      "metadata": {
        "id": "s-y8Kil2snGk"
      }
    },
    {
      "cell_type": "markdown",
      "source": [
        "# Construir historia relacionada con la identificación de billetes"
      ],
      "metadata": {
        "id": "BdfCyK44Iktw"
      }
    },
    {
      "cell_type": "markdown",
      "source": [
        "# DATA SET 1 (Billetes)"
      ],
      "metadata": {
        "id": "VA9uOZ3n7Jhp"
      }
    },
    {
      "cell_type": "markdown",
      "source": [
        "**DATA SET 1:**\n",
        "Tomada de la web \"Machine Learning Repository\". \n",
        "https://archive.ics.uci.edu/ml/datasets/banknote+authentication\n",
        "\n",
        "1.   El ejercicio de aprendizaje automático con esta data consiste en indicar si el billete de la imagen es genuino o falso a partir de las características allí registradas. "
      ],
      "metadata": {
        "id": "232MVOnvq89k"
      }
    },
    {
      "cell_type": "code",
      "source": [
        "import pandas as pd\n",
        "import numpy as np   \n",
        "import matplotlib.pyplot as plt\n",
        "import seaborn as sns\n",
        "from scipy.stats import skew\n",
        "from scipy.stats import kurtosis\n",
        "import random\n",
        "\n",
        "from google.colab import drive\n",
        "drive.mount('/content/drive')\n",
        "billetes = pd.read_csv('/content/drive/MyDrive/MAyF/Aprendizaje de Máquinas/2023/Talleres y tareas/Taller 1/data_billetes.txt', sep=',')\n",
        "billetes.loc[billetes['Clase'] <1, 'Clase'] = -1                                #Renombramos la etiqueta 0 con -1\n",
        "#billetes.info()\n",
        "num_registros, num_variables=billetes.shape\n"
      ],
      "metadata": {
        "colab": {
          "base_uri": "https://localhost:8080/"
        },
        "id": "nEqgnE5SwCIv",
        "outputId": "9e9f9ef9-fde6-4edb-8b9e-2289b05aa680"
      },
      "execution_count": null,
      "outputs": [
        {
          "output_type": "stream",
          "name": "stdout",
          "text": [
            "Drive already mounted at /content/drive; to attempt to forcibly remount, call drive.mount(\"/content/drive\", force_remount=True).\n"
          ]
        }
      ]
    },
    {
      "cell_type": "markdown",
      "source": [
        "2. Esta data corresponde a datos extraídos de imágenes que fueron tomadas para la evaluación de un procedimiento de autenticación para billetes. Los datos se extrajeron de imágenes tomadas de muestras genuinas y falsificadas similares a billetes. Para la digitalización, se utiilzó una cámara industrial generalmente utilizada para la inspección de la impresión. Las imágenes finales tienen entre 400 x 400 pixeles. Debido a la lente del objeto investigado, se obtuvieron imágenes en escala de grises con una resolución de aproximadamente 600dpi. Se utilizó la Transformada Wavelet para extraer entidades de las imágenes. Para comprender un poco mejor esto, considérese una \"wavelet\" como una oscilación con una amplitud que inicia en cero, aumenta o disminuye y vuelve a cero una o más veces. Son utilizadas para extraer información de diferentes tipos de datos como señales de audio o imágenes que es el caso de este ejercicio. Así, la transformada es utilizada para la compresión de imágenes (usando la compresión wavelet) de manera que se almacenen los datos de imagen en la menor cantidad de espacio posible. \n",
        "\n"
      ],
      "metadata": {
        "id": "T9XLLuk5xfz3"
      }
    },
    {
      "cell_type": "code",
      "source": [
        "#Análisis descriptivo de la data\n",
        "print(f\"El dataset 'billetes' cuenta con {num_registros} registros y {num_variables} variables.\")\n",
        "print(f\"El dataset 'billetes' cuenta con las variables {billetes.columns.tolist()}\")\n",
        "#billetes.isna().sum()\n",
        "\n",
        "# Estadísticas descriptivas para todas las columnas\n",
        "#print(billetes.describe())\n",
        "#print(f\"la moda de la varianza es  {billetes['Varianza_WT'].mode()}.\")"
      ],
      "metadata": {
        "colab": {
          "base_uri": "https://localhost:8080/"
        },
        "id": "JSuuTlhGih7_",
        "outputId": "c3236917-c668-4e34-e36b-30b7f169ec54"
      },
      "execution_count": null,
      "outputs": [
        {
          "output_type": "stream",
          "name": "stdout",
          "text": [
            "El dataset 'billetes' cuenta con 1372 registros y 5 variables.\n",
            "El dataset 'billetes' cuenta con las variables ['Varianza_WT', 'Asimetria_WT', 'Curtosis_WT', 'Entropia_WT', 'Clase']\n"
          ]
        }
      ]
    },
    {
      "cell_type": "markdown",
      "source": [
        "  El dataset cuenta con 1372 registros, cada uno con 5 variables o características. De estas, 4 corresponden a datos cuantitativos y la otra restante corresponde a una variable cualitativa o factor. Las variables son:\n",
        "\n",
        "*   **\"Clase\"**: Es la etiqueta que indica si los datos representan un billete falso o no; dentro de la data corresponde a una variable de tipo cualitativo representada por los valores 1 y -1 (billete genuino y falso respectivamente). "
      ],
      "metadata": {
        "id": "uqKMt5P6k-6q"
      }
    },
    {
      "cell_type": "code",
      "source": [
        "#Gráfico de barras para la columna \"Clase\"\n",
        "billetes['Clase'].value_counts().plot(kind='bar')\n",
        "plt.title('Distribución de la clase')\n",
        "plt.xlabel('Clase')\n",
        "plt.ylabel('Frecuencia')\n",
        "plt.show()\n",
        "\n",
        "\n",
        "#sns.histplot(billetes, x='Entropia_WT', hue='Clase', kde=True)\n",
        "#plt.title('Distribución de la Entropía por Clase')\n",
        "#plt.show()\n",
        "\n",
        "#varianza_wt = billetes['Varianza_WT'].sort_values()\n",
        "#x = np.sort(varianza_wt)\n",
        "#y = np.arange(1, len(x)+1) / len(x)\n",
        "#plt.plot(x, y, marker='.', linestyle='none')\n",
        "#plt.xlabel('Varianza_WT')\n",
        "#plt.ylabel('Distribución empírica')\n",
        "#plt.title('Curva de distribución empírica de Varianza_WT')\n",
        "#plt.show()"
      ],
      "metadata": {
        "colab": {
          "base_uri": "https://localhost:8080/",
          "height": 295
        },
        "id": "lonDzDXAIwZB",
        "outputId": "cbdad5d8-5cd2-433e-9535-5f79a224d4d4"
      },
      "execution_count": null,
      "outputs": [
        {
          "output_type": "display_data",
          "data": {
            "text/plain": [
              "<Figure size 432x288 with 1 Axes>"
            ],
            "image/png": "[encoded data removed]"
          },
          "metadata": {
            "needs_background": "light"
          }
        }
      ]
    },
    {
      "cell_type": "markdown",
      "source": [
        "\n",
        "A partir de esta variable es posible afirmar que existe una mayor cantidad de imágenes correspondientes a billetes falsos que a billetes genuinos.\n",
        "\n",
        "*   **\"Varianza_WT\"**: Corresponde a la varianza de la imagen luego de aplicarse la transformada de Wavelet (continua). Mide qué tanto varía el registro frente a la distribución de los datos luego de trasnformarlos. \n",
        "\n",
        "  A continuación se tienen algunas métricas descriptivas para esta variable así como un histograma que indique su distribución:\n",
        "\n"
      ],
      "metadata": {
        "id": "OWbTMFeuIxJR"
      }
    },
    {
      "cell_type": "code",
      "source": [
        "billetes['Varianza_WT'].describe()\n",
        "np.var(billetes['Varianza_WT'])"
      ],
      "metadata": {
        "colab": {
          "base_uri": "https://localhost:8080/"
        },
        "id": "S9ujn9UsssB3",
        "outputId": "e4f188e1-eadd-42fa-d81c-21940c21f2ac"
      },
      "execution_count": null,
      "outputs": [
        {
          "output_type": "execute_result",
          "data": {
            "text/plain": [
              "8.075408962235304"
            ]
          },
          "metadata": {},
          "execution_count": 32
        }
      ]
    },
    {
      "cell_type": "markdown",
      "source": [
        "|           |Varianza_WT|\n",
        "|-----------|-----------|\n",
        "|N. Datos   |       1372|\n",
        "|Min        |  -7.042100|\n",
        "|Media      |   0.433735|\n",
        "|Mediana    |   0.496180|\n",
        "|Max        |   6.824800|\n",
        "|D. estandar|   2.842763|\n",
        "|Varianza   |   8.075409| "
      ],
      "metadata": {
        "id": "wWR5RpZpssST"
      }
    },
    {
      "cell_type": "code",
      "source": [
        "#Histograma para \"Varianza_WT\"\n",
        "billetes.hist(column=['Varianza_WT'], bins=50)"
      ],
      "metadata": {
        "colab": {
          "base_uri": "https://localhost:8080/",
          "height": 298
        },
        "id": "4vg2wEWNKxxK",
        "outputId": "0c27e3b3-294c-4c94-89ad-5e2d83aca320"
      },
      "execution_count": null,
      "outputs": [
        {
          "output_type": "execute_result",
          "data": {
            "text/plain": [
              "array([[<Axes: title={'center': 'Varianza_WT'}>]], dtype=object)"
            ]
          },
          "metadata": {},
          "execution_count": 33
        },
        {
          "output_type": "display_data",
          "data": {
            "text/plain": [
              "<Figure size 432x288 with 1 Axes>"
            ],
            "image/png": "[encoded data removed]"
          },
          "metadata": {
            "needs_background": "light"
          }
        }
      ]
    },
    {
      "cell_type": "markdown",
      "source": [
        "Se puede notar que, dentro de esta variable, no existen registros NaN, así mismo, se tiene que existe una gran cantidad de datos con valores cercanos a 4 y que los datos tienden un poco hacia la derecha. "
      ],
      "metadata": {
        "id": "GNjwcTrqKyHJ"
      }
    },
    {
      "cell_type": "code",
      "source": [
        "#Histograma para \"Varianza_WT\"\n",
        "sns.histplot(billetes, x='Varianza_WT', hue='Clase', kde=True)\n",
        "plt.title('Distribución de la Varianza por Clase')\n",
        "plt.show()"
      ],
      "metadata": {
        "colab": {
          "base_uri": "https://localhost:8080/",
          "height": 296
        },
        "id": "shHORZ9YL_3Z",
        "outputId": "d921da10-047f-41a0-f801-6217d5ab07bd"
      },
      "execution_count": null,
      "outputs": [
        {
          "output_type": "display_data",
          "data": {
            "text/plain": [
              "<Figure size 432x288 with 1 Axes>"
            ],
            "image/png": "[encoded data removed]"
          },
          "metadata": {
            "needs_background": "light"
          }
        }
      ]
    },
    {
      "cell_type": "markdown",
      "source": [
        "  Revisando los datos por cada clase se nota que existe una diferencia importante respecto al comportamiento de la varianza entre los registros de billetes auténticos comparado con los registros de billetes falsos; esta diferencia muestra que, la varianza luego de la transformada Wavelet para los billetes genuinos tiende a tener valores inferiores que aquellos registros correspondientes a billetes falsos.\n",
        "\n",
        "*   **\"Asimetria_WT\"**: Corresponde a la asimetría de la imagen luego de aplicarse la transformada de Wavelet (continua). Mide qué tan asimétrico es el registro frente a la distribución de los datos luego de transformarlos. Dentro de la data corresponde a una variable de tipo float.\n",
        "\n",
        "  A continuación se tienen algunas métricas descriptivas para esta variable así como un histograma que indique su distribución:\n",
        "\n"
      ],
      "metadata": {
        "id": "RPuj1XvTMAPC"
      }
    },
    {
      "cell_type": "code",
      "source": [
        "billetes['Asimetria_WT'].describe()\n",
        "np.var(billetes['Asimetria_WT'])"
      ],
      "metadata": {
        "colab": {
          "base_uri": "https://localhost:8080/"
        },
        "id": "m4ehfKH0tMlj",
        "outputId": "bac1bc78-0974-4aba-8ba5-60a0d7dc71eb"
      },
      "execution_count": null,
      "outputs": [
        {
          "output_type": "execute_result",
          "data": {
            "text/plain": [
              "34.42060347729251"
            ]
          },
          "metadata": {},
          "execution_count": 35
        }
      ]
    },
    {
      "cell_type": "markdown",
      "source": [
        "|           |Asimetria_WT|\n",
        "|-----------|------------|\n",
        "|N. Datos   |        1372|\n",
        "|Min        |  -13.773100|\n",
        "|Media      |    1.922353|\n",
        "|Mediana    |    2.319650|\n",
        "|Max        |   12.951600|\n",
        "|D. estandar|    5.869047|\n",
        "|Varianza   |   34.420603| "
      ],
      "metadata": {
        "id": "baV1Yi4PtM2L"
      }
    },
    {
      "cell_type": "code",
      "source": [
        "#Histograma para \"Asimetria_WT\"\n",
        "billetes.hist(column=['Asimetria_WT'], bins=50)"
      ],
      "metadata": {
        "colab": {
          "base_uri": "https://localhost:8080/",
          "height": 298
        },
        "id": "MMcUjz9SMydy",
        "outputId": "7e6271d3-603a-488a-f28c-a09e55576506"
      },
      "execution_count": null,
      "outputs": [
        {
          "output_type": "execute_result",
          "data": {
            "text/plain": [
              "array([[<Axes: title={'center': 'Asimetria_WT'}>]], dtype=object)"
            ]
          },
          "metadata": {},
          "execution_count": 36
        },
        {
          "output_type": "display_data",
          "data": {
            "text/plain": [
              "<Figure size 432x288 with 1 Axes>"
            ],
            "image/png": "[encoded data removed]"
          },
          "metadata": {
            "needs_background": "light"
          }
        }
      ]
    },
    {
      "cell_type": "markdown",
      "source": [
        " Se puede notar que, dentro de esta variable, no existen registros NaN, así mismo, se tiene aunque el valor mínimo es -13.773100, los datos se acumulan principalmente desde -10 aproximadamente. Dentro de este rango de valores, es posible observar diferentes picos, principalmente hacia los datos 0.5706 y 0."
      ],
      "metadata": {
        "id": "vS5_aP0tMyvD"
      }
    },
    {
      "cell_type": "code",
      "source": [
        "#Histograma de \"Asimetría_WT\" por \"Clase\"\n",
        "sns.histplot(billetes, x='Asimetria_WT', hue='Clase', kde=True)\n",
        "plt.title('Distribución de la Asimetría por Clase')\n",
        "plt.show()"
      ],
      "metadata": {
        "colab": {
          "base_uri": "https://localhost:8080/",
          "height": 296
        },
        "id": "goAu8CQHNsmX",
        "outputId": "bdbcfdc2-1ef8-4945-cd08-9fc1eb27894c"
      },
      "execution_count": null,
      "outputs": [
        {
          "output_type": "display_data",
          "data": {
            "text/plain": [
              "<Figure size 432x288 with 1 Axes>"
            ],
            "image/png": "[encoded data removed]"
          },
          "metadata": {
            "needs_background": "light"
          }
        }
      ]
    },
    {
      "cell_type": "markdown",
      "source": [
        "  Realizando el análisis por cada una de las clases se tiene que, existe una diferencia importante en los registros de la asimetría luego de realizar la transofmada Wavelet a las imágenes y que genera que los datos para los billetes falsos se ubiquen en una buena proporción después de 5 y que sean mayores respecto a los billetes genuinos los cuales tienen una cola notable hacia valores inferiores a -5.\n",
        "\n",
        "*   **\"Curtosis_WT\"**: Indica la curtosis de la imagen luego de aplicarse la transformada de wavelet (continua). Mide el grado de concentración del dato respecto a la distribución luegode la transformada. Dentro de la data corresponde a una variable de tipo float.\n",
        "\n",
        "  A continuación se tienen algunas métricas descriptivas para esta variable así como un histograma que indique su distribución:\n",
        "\n"
      ],
      "metadata": {
        "id": "7N48WlIeNs2j"
      }
    },
    {
      "cell_type": "code",
      "source": [
        "billetes['Curtosis_WT'].describe()\n",
        "np.var(billetes['Curtosis_WT'])"
      ],
      "metadata": {
        "colab": {
          "base_uri": "https://localhost:8080/"
        },
        "id": "BB9RYpbotd1O",
        "outputId": "09d37d83-3a27-4f7e-c5a4-47dafc0b1128"
      },
      "execution_count": null,
      "outputs": [
        {
          "output_type": "execute_result",
          "data": {
            "text/plain": [
              "18.562819757086643"
            ]
          },
          "metadata": {},
          "execution_count": 38
        }
      ]
    },
    {
      "cell_type": "markdown",
      "source": [
        "|           |Curtosis_WT|\n",
        "|-----------|-----------|\n",
        "|N. Datos   |       1372|\n",
        "|Min        |  -5.286100|\n",
        "|Media      |   1.397627|\n",
        "|Mediana    |   0.616630|\n",
        "|Max        |  17.927400|\n",
        "|D. estandar|   4.310030|\n",
        "|Varianza   |   18.56282|"
      ],
      "metadata": {
        "id": "e29x7vGQteGC"
      }
    },
    {
      "cell_type": "code",
      "source": [
        "#Histograma para \"Curtosis_WT\"\n",
        "billetes.hist(column=['Curtosis_WT'], bins=50)"
      ],
      "metadata": {
        "colab": {
          "base_uri": "https://localhost:8080/",
          "height": 298
        },
        "id": "HozZVEYNM_aw",
        "outputId": "1efa3bc6-bc91-400c-ca30-06ca844553dc"
      },
      "execution_count": null,
      "outputs": [
        {
          "output_type": "execute_result",
          "data": {
            "text/plain": [
              "array([[<Axes: title={'center': 'Curtosis_WT'}>]], dtype=object)"
            ]
          },
          "metadata": {},
          "execution_count": 39
        },
        {
          "output_type": "display_data",
          "data": {
            "text/plain": [
              "<Figure size 432x288 with 1 Axes>"
            ],
            "image/png": "[encoded data removed]"
          },
          "metadata": {
            "needs_background": "light"
          }
        }
      ]
    },
    {
      "cell_type": "markdown",
      "source": [
        "  Se puede notar que, dentro de esta variable, no existen registros NaN, así mismo, se tiene los datos están fuertemente sesgados hacia la izquierda tomando valores principalmente entre -5 y 5. Sin embargo, se genera una cola a la derecha que se extiende hasta 17.9274.\n"
      ],
      "metadata": {
        "id": "nXyrnKi1M_wo"
      }
    },
    {
      "cell_type": "code",
      "source": [
        "#Histograma de \"Curtosis_WT\" por \"Clase\"\n",
        "sns.histplot(billetes, x='Curtosis_WT', hue='Clase', kde=True)\n",
        "plt.title('Distribución de la Curtosis por Clase')\n",
        "plt.show()"
      ],
      "metadata": {
        "colab": {
          "base_uri": "https://localhost:8080/",
          "height": 296
        },
        "id": "ku3MqpWjQBah",
        "outputId": "2e691560-2ab7-48d3-ad6d-5fe1f7ad246a"
      },
      "execution_count": null,
      "outputs": [
        {
          "output_type": "display_data",
          "data": {
            "text/plain": [
              "<Figure size 432x288 with 1 Axes>"
            ],
            "image/png": "[encoded data removed]"
          },
          "metadata": {
            "needs_background": "light"
          }
        }
      ]
    },
    {
      "cell_type": "markdown",
      "source": [
        "Realizando el análisis por cada una de las clases se observa que la cola derecha está generada principalmente por resultados provenientes de billetes auténticos. \n",
        "\n",
        "*   **\"Entropia_WT\"**: Correponde a la entropía de la imagen (continua). Mide la incertidumbre de la fuente de información; dentro de la data corresponde a una variable de tipo float.\n",
        "\n",
        "  A continuación se tienen algunas métricas descriptivas para esta variable así como un histograma que indique su distribución:\n",
        "\n"
      ],
      "metadata": {
        "id": "LliP1sg6QBqz"
      }
    },
    {
      "cell_type": "code",
      "source": [
        "billetes['Entropia_WT'].describe()\n",
        "np.var(billetes['Entropia_WT'])"
      ],
      "metadata": {
        "colab": {
          "base_uri": "https://localhost:8080/"
        },
        "id": "kUs1BEQTtsdf",
        "outputId": "589ac244-4d14-4621-c5e0-74dc771bfeeb"
      },
      "execution_count": null,
      "outputs": [
        {
          "output_type": "execute_result",
          "data": {
            "text/plain": [
              "4.411038815454349"
            ]
          },
          "metadata": {},
          "execution_count": 41
        }
      ]
    },
    {
      "cell_type": "markdown",
      "source": [
        "|           |Entropia_WT|\n",
        "|-----------|-----------|\n",
        "|N. Datos   |       1372|\n",
        "|Min        |  -8.548200|\n",
        "|Media      |  -1.191657|\n",
        "|Mediana    |  -0.586650|\n",
        "|Max        |   2.449500|\n",
        "|D. estandar|   2.101013|\n",
        "|Varianza   |   4.411039|\n"
      ],
      "metadata": {
        "id": "0HzOhucdtswt"
      }
    },
    {
      "cell_type": "code",
      "source": [
        "#Histograma para \"Entropia_WT\"\n",
        "billetes.hist(column=['Entropia_WT'], bins=50)"
      ],
      "metadata": {
        "colab": {
          "base_uri": "https://localhost:8080/",
          "height": 298
        },
        "id": "bTLSXA0oNAYR",
        "outputId": "0bb00a6c-f93a-4c1d-a3d6-0e99ab62e5b1"
      },
      "execution_count": null,
      "outputs": [
        {
          "output_type": "execute_result",
          "data": {
            "text/plain": [
              "array([[<Axes: title={'center': 'Entropia_WT'}>]], dtype=object)"
            ]
          },
          "metadata": {},
          "execution_count": 42
        },
        {
          "output_type": "display_data",
          "data": {
            "text/plain": [
              "<Figure size 432x288 with 1 Axes>"
            ],
            "image/png": "[encoded data removed]"
          },
          "metadata": {
            "needs_background": "light"
          }
        }
      ]
    },
    {
      "cell_type": "markdown",
      "source": [
        "  Se puede notar que, dentro de esta variable, no existen registros NaN, así mismo, se tiene que los registros se encuentran sesgados a la derecha tomando valores entre -2 y 2 principalmente. Así mismo, se observa una cola a la izquierda que se extiende hasta el registro mínimo de -8.5482."
      ],
      "metadata": {
        "id": "9ELk888FNAqB"
      }
    },
    {
      "cell_type": "code",
      "source": [
        "#Histograma de Entropia_WT por Clases\n",
        "sns.histplot(billetes, x='Entropia_WT', hue='Clase', kde=True)\n",
        "plt.title('Distribución de la Entropía por Clase')\n",
        "plt.show()\n",
        "\n",
        "# Gráfico de dispersión para las columnas \"Varianza_WT\" y \"Entropia_WT\"\n",
        "#plt.scatter(billetes['Varianza_WT'], billetes['Entropia_WT'])\n",
        "#plt.title('Dispersión de Varianza_WT vs Entropia_WT')\n",
        "#plt.xlabel('Varianza_WT')\n",
        "#plt.ylabel('Entropia_WT')\n",
        "#plt.show()\n",
        "\n"
      ],
      "metadata": {
        "colab": {
          "base_uri": "https://localhost:8080/",
          "height": 296
        },
        "id": "s-ga5FP4SBPH",
        "outputId": "0db6ed84-bda2-4ce3-fce2-5112d24a3625"
      },
      "execution_count": null,
      "outputs": [
        {
          "output_type": "display_data",
          "data": {
            "text/plain": [
              "<Figure size 432x288 with 1 Axes>"
            ],
            "image/png": "[encoded data removed]"
          },
          "metadata": {
            "needs_background": "light"
          }
        }
      ]
    },
    {
      "cell_type": "markdown",
      "source": [
        "Realizando el análisis por cada una de las clases se observa que, hay unos ligeros cambios en la masa para valores principalmente entre -2 y 2 así como en -4. Estos debidos posiblemente a la cantidad de registros que hay por cada clase.\n",
        "\n",
        "A continuación se deja una tabla que resume algunas estadísticas de las variables cuantitativas agrupadas por cada clase. \n",
        "\n",
        "\n",
        "\n",
        "\n",
        "\n",
        "\n",
        "  \n",
        "\n",
        "\n",
        "\n"
      ],
      "metadata": {
        "id": "5ysETS7GSBxN"
      }
    },
    {
      "cell_type": "code",
      "source": [
        "# Estadísticas descriptivas por clase\n",
        "from scipy.stats import kurtosis\n",
        "#print(billetes.groupby('Clase')['Varianza_WT'].describe())\n",
        "billetes.groupby('Clase')['Varianza_WT'].apply(np.var)\n",
        "billetes.groupby('Clase')['Varianza_WT'].apply(skew)\n",
        "billetes.groupby('Clase')['Varianza_WT'].apply(kurtosis)\n",
        "#print(billetes.groupby('Clase')['Asimetria_WT'].describe())\n",
        "billetes.groupby('Clase')['Asimetria_WT'].apply(np.var)\n",
        "billetes.groupby('Clase')['Asimetria_WT'].apply(skew)\n",
        "billetes.groupby('Clase')['Asimetria_WT'].apply(kurtosis)\n",
        "#print(billetes.groupby('Clase')['Curtosis_WT'].describe())\n",
        "billetes.groupby('Clase')['Curtosis_WT'].apply(np.var)\n",
        "billetes.groupby('Clase')['Curtosis_WT'].apply(skew)\n",
        "billetes.groupby('Clase')['Curtosis_WT'].apply(kurtosis)\n",
        "#print(billetes.groupby('Clase')['Entropia_WT'].describe())\n",
        "billetes.groupby('Clase')['Entropia_WT'].apply(np.var)\n",
        "billetes.groupby('Clase')['Entropia_WT'].apply(skew)\n",
        "\n",
        "\n",
        "\n",
        "billetes.groupby('Clase')['Entropia_WT'].apply(kurtosis)\n"
      ],
      "metadata": {
        "colab": {
          "base_uri": "https://localhost:8080/"
        },
        "id": "MocRRz--hfph",
        "outputId": "c760d807-dba3-4d43-d976-a36f6f2121c7"
      },
      "execution_count": null,
      "outputs": [
        {
          "output_type": "execute_result",
          "data": {
            "text/plain": [
              "Clase\n",
              "-1    0.413815\n",
              " 1    0.596764\n",
              "Name: Entropia_WT, dtype: float64"
            ]
          },
          "metadata": {},
          "execution_count": 44
        }
      ]
    },
    {
      "cell_type": "markdown",
      "source": [
        "|   |    | # Datos | Min      | Media     | Mediana  | Max     | D. Estandar | Varianza  | Skewness  | Curtosis  |\n",
        "|---|----|---------|----------|-----------|----------|---------|-------------|-----------|-----------|-----------|\n",
        "|   | -1 | 762     | -4.2859  | 2.276686  | 2.5531   | 6.8248  | 2.019348    | 4.072416  | -0.491571 | -0.361150 |\n",
        "|   | 1  | 610     | -7.0421  | -1.868443 | -1.8061  | 2.3917  | 1.881183    | 3.533047  | -0.300938 | -0.183951 |\n",
        "|   | -1 | 762     | -6.9321  | 4.256627  | 5.668800 | 12.9516 | 5.138792    | 26.372529 | -0.379434 | -1.040622 |\n",
        "|   | 1  | 610     | -13.7731 | -0.993576 | 0.172775 | 9.6014  | 5.404884    | 29.164879 | -0.516072 | -0.535194 |\n",
        "|   | -1 | 762     | -4.9417  | 0.796718  | 0.700605 | 8.8294  | 3.239894    | 10.483136 | 0.428928  | -0.335026 |\n",
        "|   | 1  | 610     | -5.2861  | 2.148271  | 0.373720 | 17.9274 | 5.261811    | 27.641266 | 0.953895  | 0.196252  |\n",
        "|   | -1 | 762     | -8.5482  | -1.147640 | -0.55238 | 2.4495  | 2.125077    | 4.510025  | -0.998025 | 0.413815  |\n",
        "|   | 1  | 610     | -7.5887  | -1.246641 | -0.66165 | 2.1353  | 2.070984    | 4.281943  | -1.057938 | 0.596764  |"
      ],
      "metadata": {
        "id": "Id9ONQxrKdTG"
      }
    },
    {
      "cell_type": "markdown",
      "source": [
        "3. asfaf\n",
        "\n",
        "\n",
        "*   a)\n",
        "\n",
        "*   b)\n",
        "\n",
        "*   c)\n",
        "\n",
        "\n",
        "4. agafg\n",
        "5. adfgafg\n",
        "6. agafafhad"
      ],
      "metadata": {
        "id": "K7Orb3RahgH9"
      }
    },
    {
      "cell_type": "code",
      "source": [
        "#Ya que contamos solo con un conjunto de datos, vamos a dividirlo en 3 muestras aleatorias del mismo para realizar el entrenamiento, testeo y validación.\n",
        "#plt.hist(billetes['Clase'])\n",
        "#plt.boxplot(billetes['Entropia_WT'])\n",
        "billetes_train=billetes.sample(frac=.7)\n",
        "#billetes_train\n",
        "random. seed(0) \n",
        "len(billetes.sample(frac=.7))\n",
        "\n",
        "len(billetes)\n",
        "billetes_train['Train']=1               #Asignamos etiqueta para aquellos registros seleccionados como data de entrenamiento. \n",
        "billetes_train\n",
        "billetes_train.isna().sum()\n",
        "\n",
        "#Se deben separar los datos por etiqueta para usarlos en el modelo creando los diccionarios. #Esto debe hacerse luego de separar la data en 3.\n",
        "#Clase1 = billetes['Clase']\n",
        "#Clase1"
      ],
      "metadata": {
        "id": "gBuKDTv5im6v"
      },
      "execution_count": null,
      "outputs": []
    },
    {
      "cell_type": "code",
      "source": [
        "billetes1=pd.merge(billetes, billetes_train, how=\"outer\")  #Cruzamos la data Train con la original para identificar quiénes de esta data se usarán en el Training.\n",
        "len(billetes1)\n",
        "#billetes1['Train'] = billetes1['Train'].fillna(0)   #Se reemplazan los valores NAN con 0.\n",
        "#billetes1\n",
        "#billetes2 = billetes1.loc[billetes1['Train'] == 0]  #Extraemos de la data original aquella que registra como no tomada o usada para el Train.\n",
        "#billetes2 = billetes2.drop('Train', axis=1) #Eliminamos la columna \"Train\"\n",
        "#billetes2"
      ],
      "metadata": {
        "id": "vxkZfjT-irPB"
      },
      "execution_count": null,
      "outputs": []
    },
    {
      "cell_type": "code",
      "source": [
        "len(billetes2.sample(frac=.6))\n",
        "len(billetes2)\n",
        "len(billetes)\n",
        "1427-1372\n",
        "#len(billetes_train)"
      ],
      "metadata": {
        "id": "pkljKYKCit2f"
      },
      "execution_count": null,
      "outputs": []
    },
    {
      "cell_type": "code",
      "source": [
        "Clase2 = billetes['Clase']\n",
        "Clase2"
      ],
      "metadata": {
        "colab": {
          "base_uri": "https://localhost:8080/"
        },
        "id": "vKBvWoNuEZRV",
        "outputId": "f68b8440-1ee7-4b20-fc06-421ed594a2bb"
      },
      "execution_count": null,
      "outputs": [
        {
          "output_type": "execute_result",
          "data": {
            "text/plain": [
              "0      -1\n",
              "1      -1\n",
              "2      -1\n",
              "3      -1\n",
              "4      -1\n",
              "       ..\n",
              "1367    1\n",
              "1368    1\n",
              "1369    1\n",
              "1370    1\n",
              "1371    1\n",
              "Name: Clase, Length: 1372, dtype: int64"
            ]
          },
          "metadata": {},
          "execution_count": 21
        }
      ]
    },
    {
      "cell_type": "markdown",
      "source": [
        "Se cambia la etiqueta de 0 por -1"
      ],
      "metadata": {
        "id": "FNRH2Ubx_SCl"
      }
    },
    {
      "cell_type": "code",
      "source": [],
      "metadata": {
        "id": "hEjKYDUe0lHk"
      },
      "execution_count": null,
      "outputs": []
    },
    {
      "cell_type": "code",
      "source": [
        "from sklearn import datasets\n",
        "from sklearn.model_selection import train_test_split\n",
        "from sklearn.svm import SVC\n",
        "\n",
        "# Cargar el conjunto de datos iris de Scikit-Learn\n",
        "iris = datasets.load_iris()\n",
        "iris\n",
        "# Dividir el conjunto de datos en un conjunto de entrenamiento y un conjunto de prueba\n",
        "X_train, X_test, y_train, y_test = train_test_split(iris.data, iris.target, test_size=0.3, random_state=0)\n",
        "print(iris)"
      ],
      "metadata": {
        "colab": {
          "base_uri": "https://localhost:8080/"
        },
        "id": "lx6UE0Zw_Rh8",
        "outputId": "5f3ddaf5-2b8d-4b50-9f2e-418cf94827f8"
      },
      "execution_count": null,
      "outputs": [
        {
          "output_type": "stream",
          "name": "stdout",
          "text": [
            "{'data': array([[5.1, 3.5, 1.4, 0.2],\n",
            "       [4.9, 3. , 1.4, 0.2],\n",
            "       [4.7, 3.2, 1.3, 0.2],\n",
            "       [4.6, 3.1, 1.5, 0.2],\n",
            "       [5. , 3.6, 1.4, 0.2],\n",
            "       [5.4, 3.9, 1.7, 0.4],\n",
            "       [4.6, 3.4, 1.4, 0.3],\n",
            "       [5. , 3.4, 1.5, 0.2],\n",
            "       [4.4, 2.9, 1.4, 0.2],\n",
            "       [4.9, 3.1, 1.5, 0.1],\n",
            "       [5.4, 3.7, 1.5, 0.2],\n",
            "       [4.8, 3.4, 1.6, 0.2],\n",
            "       [4.8, 3. , 1.4, 0.1],\n",
            "       [4.3, 3. , 1.1, 0.1],\n",
            "       [5.8, 4. , 1.2, 0.2],\n",
            "       [5.7, 4.4, 1.5, 0.4],\n",
            "       [5.4, 3.9, 1.3, 0.4],\n",
            "       [5.1, 3.5, 1.4, 0.3],\n",
            "       [5.7, 3.8, 1.7, 0.3],\n",
            "       [5.1, 3.8, 1.5, 0.3],\n",
            "       [5.4, 3.4, 1.7, 0.2],\n",
            "       [5.1, 3.7, 1.5, 0.4],\n",
            "       [4.6, 3.6, 1. , 0.2],\n",
            "       [5.1, 3.3, 1.7, 0.5],\n",
            "       [4.8, 3.4, 1.9, 0.2],\n",
            "       [5. , 3. , 1.6, 0.2],\n",
            "       [5. , 3.4, 1.6, 0.4],\n",
            "       [5.2, 3.5, 1.5, 0.2],\n",
            "       [5.2, 3.4, 1.4, 0.2],\n",
            "       [4.7, 3.2, 1.6, 0.2],\n",
            "       [4.8, 3.1, 1.6, 0.2],\n",
            "       [5.4, 3.4, 1.5, 0.4],\n",
            "       [5.2, 4.1, 1.5, 0.1],\n",
            "       [5.5, 4.2, 1.4, 0.2],\n",
            "       [4.9, 3.1, 1.5, 0.2],\n",
            "       [5. , 3.2, 1.2, 0.2],\n",
            "       [5.5, 3.5, 1.3, 0.2],\n",
            "       [4.9, 3.6, 1.4, 0.1],\n",
            "       [4.4, 3. , 1.3, 0.2],\n",
            "       [5.1, 3.4, 1.5, 0.2],\n",
            "       [5. , 3.5, 1.3, 0.3],\n",
            "       [4.5, 2.3, 1.3, 0.3],\n",
            "       [4.4, 3.2, 1.3, 0.2],\n",
            "       [5. , 3.5, 1.6, 0.6],\n",
            "       [5.1, 3.8, 1.9, 0.4],\n",
            "       [4.8, 3. , 1.4, 0.3],\n",
            "       [5.1, 3.8, 1.6, 0.2],\n",
            "       [4.6, 3.2, 1.4, 0.2],\n",
            "       [5.3, 3.7, 1.5, 0.2],\n",
            "       [5. , 3.3, 1.4, 0.2],\n",
            "       [7. , 3.2, 4.7, 1.4],\n",
            "       [6.4, 3.2, 4.5, 1.5],\n",
            "       [6.9, 3.1, 4.9, 1.5],\n",
            "       [5.5, 2.3, 4. , 1.3],\n",
            "       [6.5, 2.8, 4.6, 1.5],\n",
            "       [5.7, 2.8, 4.5, 1.3],\n",
            "       [6.3, 3.3, 4.7, 1.6],\n",
            "       [4.9, 2.4, 3.3, 1. ],\n",
            "       [6.6, 2.9, 4.6, 1.3],\n",
            "       [5.2, 2.7, 3.9, 1.4],\n",
            "       [5. , 2. , 3.5, 1. ],\n",
            "       [5.9, 3. , 4.2, 1.5],\n",
            "       [6. , 2.2, 4. , 1. ],\n",
            "       [6.1, 2.9, 4.7, 1.4],\n",
            "       [5.6, 2.9, 3.6, 1.3],\n",
            "       [6.7, 3.1, 4.4, 1.4],\n",
            "       [5.6, 3. , 4.5, 1.5],\n",
            "       [5.8, 2.7, 4.1, 1. ],\n",
            "       [6.2, 2.2, 4.5, 1.5],\n",
            "       [5.6, 2.5, 3.9, 1.1],\n",
            "       [5.9, 3.2, 4.8, 1.8],\n",
            "       [6.1, 2.8, 4. , 1.3],\n",
            "       [6.3, 2.5, 4.9, 1.5],\n",
            "       [6.1, 2.8, 4.7, 1.2],\n",
            "       [6.4, 2.9, 4.3, 1.3],\n",
            "       [6.6, 3. , 4.4, 1.4],\n",
            "       [6.8, 2.8, 4.8, 1.4],\n",
            "       [6.7, 3. , 5. , 1.7],\n",
            "       [6. , 2.9, 4.5, 1.5],\n",
            "       [5.7, 2.6, 3.5, 1. ],\n",
            "       [5.5, 2.4, 3.8, 1.1],\n",
            "       [5.5, 2.4, 3.7, 1. ],\n",
            "       [5.8, 2.7, 3.9, 1.2],\n",
            "       [6. , 2.7, 5.1, 1.6],\n",
            "       [5.4, 3. , 4.5, 1.5],\n",
            "       [6. , 3.4, 4.5, 1.6],\n",
            "       [6.7, 3.1, 4.7, 1.5],\n",
            "       [6.3, 2.3, 4.4, 1.3],\n",
            "       [5.6, 3. , 4.1, 1.3],\n",
            "       [5.5, 2.5, 4. , 1.3],\n",
            "       [5.5, 2.6, 4.4, 1.2],\n",
            "       [6.1, 3. , 4.6, 1.4],\n",
            "       [5.8, 2.6, 4. , 1.2],\n",
            "       [5. , 2.3, 3.3, 1. ],\n",
            "       [5.6, 2.7, 4.2, 1.3],\n",
            "       [5.7, 3. , 4.2, 1.2],\n",
            "       [5.7, 2.9, 4.2, 1.3],\n",
            "       [6.2, 2.9, 4.3, 1.3],\n",
            "       [5.1, 2.5, 3. , 1.1],\n",
            "       [5.7, 2.8, 4.1, 1.3],\n",
            "       [6.3, 3.3, 6. , 2.5],\n",
            "       [5.8, 2.7, 5.1, 1.9],\n",
            "       [7.1, 3. , 5.9, 2.1],\n",
            "       [6.3, 2.9, 5.6, 1.8],\n",
            "       [6.5, 3. , 5.8, 2.2],\n",
            "       [7.6, 3. , 6.6, 2.1],\n",
            "       [4.9, 2.5, 4.5, 1.7],\n",
            "       [7.3, 2.9, 6.3, 1.8],\n",
            "       [6.7, 2.5, 5.8, 1.8],\n",
            "       [7.2, 3.6, 6.1, 2.5],\n",
            "       [6.5, 3.2, 5.1, 2. ],\n",
            "       [6.4, 2.7, 5.3, 1.9],\n",
            "       [6.8, 3. , 5.5, 2.1],\n",
            "       [5.7, 2.5, 5. , 2. ],\n",
            "       [5.8, 2.8, 5.1, 2.4],\n",
            "       [6.4, 3.2, 5.3, 2.3],\n",
            "       [6.5, 3. , 5.5, 1.8],\n",
            "       [7.7, 3.8, 6.7, 2.2],\n",
            "       [7.7, 2.6, 6.9, 2.3],\n",
            "       [6. , 2.2, 5. , 1.5],\n",
            "       [6.9, 3.2, 5.7, 2.3],\n",
            "       [5.6, 2.8, 4.9, 2. ],\n",
            "       [7.7, 2.8, 6.7, 2. ],\n",
            "       [6.3, 2.7, 4.9, 1.8],\n",
            "       [6.7, 3.3, 5.7, 2.1],\n",
            "       [7.2, 3.2, 6. , 1.8],\n",
            "       [6.2, 2.8, 4.8, 1.8],\n",
            "       [6.1, 3. , 4.9, 1.8],\n",
            "       [6.4, 2.8, 5.6, 2.1],\n",
            "       [7.2, 3. , 5.8, 1.6],\n",
            "       [7.4, 2.8, 6.1, 1.9],\n",
            "       [7.9, 3.8, 6.4, 2. ],\n",
            "       [6.4, 2.8, 5.6, 2.2],\n",
            "       [6.3, 2.8, 5.1, 1.5],\n",
            "       [6.1, 2.6, 5.6, 1.4],\n",
            "       [7.7, 3. , 6.1, 2.3],\n",
            "       [6.3, 3.4, 5.6, 2.4],\n",
            "       [6.4, 3.1, 5.5, 1.8],\n",
            "       [6. , 3. , 4.8, 1.8],\n",
            "       [6.9, 3.1, 5.4, 2.1],\n",
            "       [6.7, 3.1, 5.6, 2.4],\n",
            "       [6.9, 3.1, 5.1, 2.3],\n",
            "       [5.8, 2.7, 5.1, 1.9],\n",
            "       [6.8, 3.2, 5.9, 2.3],\n",
            "       [6.7, 3.3, 5.7, 2.5],\n",
            "       [6.7, 3. , 5.2, 2.3],\n",
            "       [6.3, 2.5, 5. , 1.9],\n",
            "       [6.5, 3. , 5.2, 2. ],\n",
            "       [6.2, 3.4, 5.4, 2.3],\n",
            "       [5.9, 3. , 5.1, 1.8]]), 'target': array([0, 0, 0, 0, 0, 0, 0, 0, 0, 0, 0, 0, 0, 0, 0, 0, 0, 0, 0, 0, 0, 0,\n",
            "       0, 0, 0, 0, 0, 0, 0, 0, 0, 0, 0, 0, 0, 0, 0, 0, 0, 0, 0, 0, 0, 0,\n",
            "       0, 0, 0, 0, 0, 0, 1, 1, 1, 1, 1, 1, 1, 1, 1, 1, 1, 1, 1, 1, 1, 1,\n",
            "       1, 1, 1, 1, 1, 1, 1, 1, 1, 1, 1, 1, 1, 1, 1, 1, 1, 1, 1, 1, 1, 1,\n",
            "       1, 1, 1, 1, 1, 1, 1, 1, 1, 1, 1, 1, 2, 2, 2, 2, 2, 2, 2, 2, 2, 2,\n",
            "       2, 2, 2, 2, 2, 2, 2, 2, 2, 2, 2, 2, 2, 2, 2, 2, 2, 2, 2, 2, 2, 2,\n",
            "       2, 2, 2, 2, 2, 2, 2, 2, 2, 2, 2, 2, 2, 2, 2, 2, 2, 2]), 'frame': None, 'target_names': array(['setosa', 'versicolor', 'virginica'], dtype='<U10'), 'DESCR': '.. _iris_dataset:\\n\\nIris plants dataset\\n--------------------\\n\\n**Data Set Characteristics:**\\n\\n    :Number of Instances: 150 (50 in each of three classes)\\n    :Number of Attributes: 4 numeric, predictive attributes and the class\\n    :Attribute Information:\\n        - sepal length in cm\\n        - sepal width in cm\\n        - petal length in cm\\n        - petal width in cm\\n        - class:\\n                - Iris-Setosa\\n                - Iris-Versicolour\\n                - Iris-Virginica\\n                \\n    :Summary Statistics:\\n\\n    ============== ==== ==== ======= ===== ====================\\n                    Min  Max   Mean    SD   Class Correlation\\n    ============== ==== ==== ======= ===== ====================\\n    sepal length:   4.3  7.9   5.84   0.83    0.7826\\n    sepal width:    2.0  4.4   3.05   0.43   -0.4194\\n    petal length:   1.0  6.9   3.76   1.76    0.9490  (high!)\\n    petal width:    0.1  2.5   1.20   0.76    0.9565  (high!)\\n    ============== ==== ==== ======= ===== ====================\\n\\n    :Missing Attribute Values: None\\n    :Class Distribution: 33.3% for each of 3 classes.\\n    :Creator: R.A. Fisher\\n    :Donor: Michael Marshall (MARSHALL%PLU@io.arc.nasa.gov)\\n    :Date: July, 1988\\n\\nThe famous Iris database, first used by Sir R.A. Fisher. The dataset is taken\\nfrom Fisher\\'s paper. Note that it\\'s the same as in R, but not as in the UCI\\nMachine Learning Repository, which has two wrong data points.\\n\\nThis is perhaps the best known database to be found in the\\npattern recognition literature.  Fisher\\'s paper is a classic in the field and\\nis referenced frequently to this day.  (See Duda & Hart, for example.)  The\\ndata set contains 3 classes of 50 instances each, where each class refers to a\\ntype of iris plant.  One class is linearly separable from the other 2; the\\nlatter are NOT linearly separable from each other.\\n\\n.. topic:: References\\n\\n   - Fisher, R.A. \"The use of multiple measurements in taxonomic problems\"\\n     Annual Eugenics, 7, Part II, 179-188 (1936); also in \"Contributions to\\n     Mathematical Statistics\" (John Wiley, NY, 1950).\\n   - Duda, R.O., & Hart, P.E. (1973) Pattern Classification and Scene Analysis.\\n     (Q327.D83) John Wiley & Sons.  ISBN 0-471-22361-1.  See page 218.\\n   - Dasarathy, B.V. (1980) \"Nosing Around the Neighborhood: A New System\\n     Structure and Classification Rule for Recognition in Partially Exposed\\n     Environments\".  IEEE Transactions on Pattern Analysis and Machine\\n     Intelligence, Vol. PAMI-2, No. 1, 67-71.\\n   - Gates, G.W. (1972) \"The Reduced Nearest Neighbor Rule\".  IEEE Transactions\\n     on Information Theory, May 1972, 431-433.\\n   - See also: 1988 MLC Proceedings, 54-64.  Cheeseman et al\"s AUTOCLASS II\\n     conceptual clustering system finds 3 classes in the data.\\n   - Many, many more ...', 'feature_names': ['sepal length (cm)', 'sepal width (cm)', 'petal length (cm)', 'petal width (cm)'], 'filename': 'iris.csv', 'data_module': 'sklearn.datasets.data'}\n"
          ]
        }
      ]
    },
    {
      "cell_type": "markdown",
      "source": [
        "El código que se tiene para aplicar el modelo SVM es el siguiente:"
      ],
      "metadata": {
        "id": "qls0xtsU_VQc"
      }
    },
    {
      "cell_type": "code",
      "execution_count": null,
      "metadata": {
        "id": "5AOO-Ib6o_7U",
        "colab": {
          "base_uri": "https://localhost:8080/",
          "height": 321
        },
        "outputId": "f8d468db-a041-44cb-f679-4330b60599b5"
      },
      "outputs": [
        {
          "output_type": "stream",
          "name": "stdout",
          "text": [
            "Optimized a step.\n",
            "Optimized a step.\n",
            "Optimized a step.\n"
          ]
        },
        {
          "output_type": "display_data",
          "data": {
            "text/plain": [
              "<Figure size 432x288 with 1 Axes>"
            ],
            "image/png": "[encoded data removed]"
          },
          "metadata": {}
        }
      ],
      "source": [
        "# https://pythonprogramming.net/svm-optimization-python-2-machine-learning-tutorial/?completed=/svm-optimization-python-machine-learning-tutorial/\n",
        "import matplotlib.pyplot as plt                                                 #Librería para realizar gráficas interactivas (gráficos en 2D, 3D, histogramas, barplot, dispersión,...).\n",
        "from matplotlib import style                                                    #\"Librería\" que se usa de matplotlib para modificar la apariencia de las gráficas\n",
        "import numpy as np                                                              #Librería que da soporte para crear vectores y matrices grandes multidimensionales, junto con una gran colección de funciones matemáticas de alto nivel para operar con ellas.\n",
        "import pandas as pd                                                             #Librería especializada en la manipulación y análisis de datos.\n",
        "style.use('ggplot')                                                             #Indica el \"estilo\" a utilizar para las gráficas\n",
        "\n",
        "# Recordar que en la POO hay tres cosas repecto a los objetos, su estado(está definido por sus atributos -> datos que describen el estado actual del objeto), su comportamiento (estados-> permiten al objeto \"hacer\" algo) y su identidad (propiedad que permite diferenciarlo de otros objetos incluso de su misma clase).\n",
        "#La palabra self simplemente nos permite usar variables y otros métodos dentro de la clase\n",
        "#-> ¿Qué es un método? Basicamente es una función pero dentro de una clase y funciona dentro de la clase; son las acciones que puede realizar nuestro objeto, sus comportamientos.\n",
        "#-> ¿Qué es una clase? Es el modelo donde se redactan las características comunes de un grupo de objetos. (El molde)\n",
        "\n",
        "#Se define la clase SVM la cual tendrá las características comunes de este algoritmo.\n",
        "class Support_Vector_Machine:                                                   #Se crea la clase (sección) SVM. Esta técnica de aprendizaje procura encontrar el mejor hiperplano para separar las etiquetas.\n",
        "                                                                                #La clase contiene los métodos para ajustar el modelo a los datos y predecir el resultado de la clasificación.\n",
        "    \n",
        "    #Se crea el método __init__ el cual cuenta con los atributos (parámetros) de visualización y color, siempre va en una clase debido a que este inicializa los parámeros.\n",
        "    #\"self\" representa la instancia de la clase \n",
        "    #En el caso del parámetro booleano \"visualization\" indica si se mostrarán visualmente los resultados de la clasificación de datos.\n",
        "    def __init__(self, visualization=True):                                     #El método(función dentro de una clase) __init__ establece un estado inicial de la clase, es decir, inicializar los atributos. \"visualization\" se usa para determinar si se mostrarán visualmente los resultados de la clasificación de datos. \n",
        "        self.visualization = visualization                                      #El comando \"self.visualization\" crea el atributo visualization y lo inicia con el valor de la variable \"visualization\"\n",
        "        #El comando \"self\" permite ingresar a los atributos y métodos de la clase, en este caso indica parámetros de visualización\n",
        "        self.colors = {1:'r',-1:'b'}                                            #Indica parámetros de colores para las clases 1 y -1.\n",
        "        if self.visualization:                                                  #Si está habilitado el permitir la visualización se generan los parámetros para la gráfica\n",
        "            self.fig = plt.figure()                                             #Crea una nueva figura\n",
        "            self.ax = self.fig.add_subplot(1,1,1)                               #Agrega una \"subfigura\" a la figura anterior, para ello indica su ubicación por medio de filas, columnas y el índice de la subfigura.\n",
        "    \n",
        "    # train                                                                     #Entrenamiento\n",
        "    def fit(self, data):                                                        #El comando fit ajusta el modelo a los datos de entrenamiento\n",
        "        self.data = data                                                        #Indica los datos para el conjunto de entrenamiento. #El parámetro 'data' es un diccionario que contiene arrays numpy para cada clase.\n",
        "        # { ||w||: [w,b] }                                                      #Calcula la norma de w\n",
        "        opt_dict = {}                                                           #Crea un diccionario vacío que luego se usará para almacenar los valores de 'w' y 'b' que serían óptimos para el modelo.\n",
        "\n",
        "#Se construye una lista con \"vectores\" que indican las posibles transformaciones que podrían ser aplicadas a los vectores de soporte y que ayudan a verificar cómo el hiperplano estaría separando los datos.\n",
        "# Originalmente el código incluye las siguientes transformaciones basadas en un caso de data con los vectores de características x en R^2\n",
        "        transforms = [[1,1],                                                    #\n",
        "                      [-1,1],                                                   #\n",
        "                      [-1,-1],                                                  #\n",
        "                      [1,-1]]                                                   #\n",
        "\n",
        "#Sin embargo, se cambia el código inicial por las siguientes transformaciones teniendo encuenta que x está en R^4\n",
        "        transforms= [[1,1,1,1],[1,1,1,-1],[1,1,-1,1],[1,1,-1,-1],               #\n",
        "                     [1,-1,1,1],[1,-1,1,-1],[1,-1,-1,1],[1,-1,-1,-1],           #\n",
        "                     [-1,1,1,1],[-1,1,1,-1],[-1,1,-1,1],[-1,1,-1,-1],           #\n",
        "                     [-1,-1,1,1],[-1,-1,1,-1],[-1,-1,-1,1],[-1,-1,-1,-1]]       #\n",
        "\n",
        "\n",
        "\n",
        "        all_data = []                                                           # Se construye una lista vacía que luego se usaría para almacenar la data con todas las instancias de todas las clases. Esto para poder ordenar y hallar máximos y mínimos en la normalización.\n",
        "        for yi in self.data:                                                    #Recorre las etiquetas\n",
        "            for featureset in self.data[yi]:                                    #Recorre los vectores de características\n",
        "                for feature in featureset:                                 #REVISAR PORQUE NO SE COMPRENDE QUÉ ESTÁ RECORRIENDO (recorre y pega las características una bajo otra)\n",
        "                    all_data.append(feature)                                    #Agrega elementos a la \"data\" feature\n",
        "\n",
        "        self.max_feature_value = max(all_data)                                  #\n",
        "        self.min_feature_value = min(all_data)                                  #\n",
        "        all_data = None                                                         #\n",
        "\n",
        "        # support vectors yi(xi.w+b) = 1                                        #\n",
        "        \n",
        "\n",
        "        step_sizes = [self.max_feature_value * 0.1,                             #Indica la cantidad de pasos para la estimación de los parámetros (Mira si converge)\n",
        "                      self.max_feature_value * 0.01,                            #\n",
        "                      # point of expense:\n",
        "                      self.max_feature_value * 0.001,]                          #\n",
        "\n",
        "        \n",
        "        \n",
        "        # extremely expensive\n",
        "        b_range_multiple = 5                                                    #\n",
        "        # we dont need to take as small of steps\n",
        "        # with b as we do w\n",
        "        b_multiple = 5                                                          #\n",
        "        latest_optimum = self.max_feature_value*10                              #\n",
        "\n",
        "        for step in step_sizes:                                                 #\n",
        "            w = np.array([latest_optimum,latest_optimum])                       #\n",
        "            # we can do this because convex                                     #\n",
        "            optimized = False                                                   #\n",
        "            while not optimized:                                                #\n",
        "                for b in np.arange(-1*(self.max_feature_value*b_range_multiple),#\n",
        "                                   self.max_feature_value*b_range_multiple,     #\n",
        "                                   step*b_multiple):                            #\n",
        "                    for transformation in transforms:                           #\n",
        "                        w_t = w*transformation                                  #\n",
        "                        found_option = True                                     #\n",
        "                        # weakest link in the SVM fundamentally\n",
        "                        # SMO attempts to fix this a bit\n",
        "                        # yi(xi.w+b) >= 1\n",
        "                        # \n",
        "                        # #### add a break here later..\n",
        "                        for i in self.data:                                     #\n",
        "                            for xi in self.data[i]:                             #\n",
        "                                yi=i                                            #\n",
        "                                # Verifiy constraints\n",
        "                                if not yi*(np.dot(w_t,xi)+b) >= 1:              #\n",
        "                                    found_option = False                        #\n",
        "                                    \n",
        "                        if found_option:                                        #\n",
        "                            # Computes norm                                     #\n",
        "                            opt_dict[np.linalg.norm(w_t)] = [w_t,b]             #\n",
        "\n",
        "                if w[0] < 0:                                                    #\n",
        "                    optimized = True                                            #\n",
        "                    print('Optimized a step.')                                  #\n",
        "                else:                                                           #\n",
        "                    w = w - step                                                #\n",
        "\n",
        "            norms = sorted([n for n in opt_dict])                               #\n",
        "            #||w|| : [w,b]                                                      #\n",
        "            opt_choice = opt_dict[norms[0]]                                     #\n",
        "            self.w = opt_choice[0]                                              # \n",
        "            self.b = opt_choice[1]                                              #\n",
        "            latest_optimum = opt_choice[0][0]+step*2                            #\n",
        "            \n",
        "\n",
        "    def predict(self,features):                                                 #\n",
        "        # sign( x.w+b )                                                         #\n",
        "        classification = np.sign(np.dot(np.array(features),self.w)+self.b)      #\n",
        "        return classification                                                   #\n",
        "        \n",
        "        \n",
        "data_dict = {-1:np.array([[1,7],                                                #\n",
        "                          [2,8],                                                #   \n",
        "                          [3,8],]),                                             #\n",
        "             \n",
        "             1:np.array([[5,1],                                                 #\n",
        "                         [6,-1],                                                #\n",
        "                         [7,3],])}                                              #\n",
        " \n",
        "svm1 = Support_Vector_Machine()                                                 #\n",
        "svm1.fit(data_dict)                                                             #\n"
      ]
    },
    {
      "cell_type": "code",
      "source": [
        "svm1.predict([7,3.5])"
      ],
      "metadata": {
        "colab": {
          "base_uri": "https://localhost:8080/"
        },
        "id": "LmE-qAQOqwJ8",
        "outputId": "5bb15020-4853-4c63-b925-8c46f934cdaf"
      },
      "execution_count": null,
      "outputs": [
        {
          "output_type": "execute_result",
          "data": {
            "text/plain": [
              "1.0"
            ]
          },
          "metadata": {},
          "execution_count": 26
        }
      ]
    },
    {
      "cell_type": "code",
      "source": [],
      "metadata": {
        "id": "uf-xWInXwHXi"
      },
      "execution_count": null,
      "outputs": []
    },
    {
      "cell_type": "markdown",
      "source": [
        "# DATA SET 2 (Ocupación de habitación)"
      ],
      "metadata": {
        "id": "aK3KTAYR7ZYJ"
      }
    },
    {
      "cell_type": "markdown",
      "source": [
        "**DATA SET 2:**\n",
        "Tomada de la web \"Machine Learning Repository\". \n",
        "\n",
        "\n",
        "1.   El ejercicio de aprendizaje automático para este dataset consiste en indicar si una habitación se encuentra ocupada o no a partir de características que arroja el ambiente dentro de la misma. \n",
        "2.   Esta data corresponde a datos experimentales utilizados para la clasificación binaria (ocupación de la habitación) a partir de la temperatura, humedad, luz y CO2. La \"ocupación real\" del suelo se obtuvoa partir de imágenes con etiquetado de tiempo que se tomaron cada minuto. Para este ejerciciose contemplaron 3 conjuntos de datos, para entrenamiento y prueba. Esta data cuenta con20560 registros y 7 variables que son:\n",
        "\n",
        "\n",
        "*   Fecha del registro (año-mes-dia y hora:minuto:segundo).\n",
        "*   Temperatura en grados Celsius de la habitación.\n",
        "*   Porcentaje de humedad relativa de la habitación.\n",
        "*   Luz de la habitación (medido en lux).\n",
        "*   CO2 de la habitación medido en ppm.\n",
        "*   Relación de humedad de la habitación, es una cantidad derivada de la temperatura y la humedad relativa medida enkgagua-vapor/kg-aire.\n",
        "*   Indicador de ocupación (Etiqueta): Se usa 1 para indicar que la habitación estaba ocupada y 0 para indicar que no estaba ocupada.\n",
        "\n",
        "3. asfaf\n",
        "\n",
        "\n",
        "*   a)\n",
        "\n",
        "*   b)\n",
        "\n",
        "*   c)\n",
        "\n",
        "\n",
        "4. agafg\n",
        "5. adfgafg\n",
        "6. agafafhad"
      ],
      "metadata": {
        "id": "qzf17xNAxsz9"
      }
    },
    {
      "cell_type": "code",
      "source": [
        "ocupacion_training = pd.read_csv('/content/drive/MyDrive/MAyF/Aprendizaje de Máquinas/2023/Talleres y tareas/Taller 1/data_ocupacion/datatraining_room.txt', sep=',')\n",
        "ocupacion_training"
      ],
      "metadata": {
        "colab": {
          "base_uri": "https://localhost:8080/",
          "height": 424
        },
        "id": "5zByKrlWu-2l",
        "outputId": "799836e3-1e48-4dab-cbe0-1babb67a0286"
      },
      "execution_count": null,
      "outputs": [
        {
          "output_type": "execute_result",
          "data": {
            "text/plain": [
              "                     date  Temperature  Humidity  Light         CO2  \\\n",
              "1     2015-02-04 17:51:00        23.18   27.2720  426.0  721.250000   \n",
              "2     2015-02-04 17:51:59        23.15   27.2675  429.5  714.000000   \n",
              "3     2015-02-04 17:53:00        23.15   27.2450  426.0  713.500000   \n",
              "4     2015-02-04 17:54:00        23.15   27.2000  426.0  708.250000   \n",
              "5     2015-02-04 17:55:00        23.10   27.2000  426.0  704.500000   \n",
              "...                   ...          ...       ...    ...         ...   \n",
              "8139  2015-02-10 09:29:00        21.05   36.0975  433.0  787.250000   \n",
              "8140  2015-02-10 09:29:59        21.05   35.9950  433.0  789.500000   \n",
              "8141  2015-02-10 09:30:59        21.10   36.0950  433.0  798.500000   \n",
              "8142  2015-02-10 09:32:00        21.10   36.2600  433.0  820.333333   \n",
              "8143  2015-02-10 09:33:00        21.10   36.2000  447.0  821.000000   \n",
              "\n",
              "      HumidityRatio  Occupancy  \n",
              "1          0.004793          1  \n",
              "2          0.004783          1  \n",
              "3          0.004779          1  \n",
              "4          0.004772          1  \n",
              "5          0.004757          1  \n",
              "...             ...        ...  \n",
              "8139       0.005579          1  \n",
              "8140       0.005563          1  \n",
              "8141       0.005596          1  \n",
              "8142       0.005621          1  \n",
              "8143       0.005612          1  \n",
              "\n",
              "[8143 rows x 7 columns]"
            ],
            "text/html": [
              "\n",
              "  <div id=\"df-51efd88b-c70e-4b82-a8b1-8846b22cdcbf\">\n",
              "    <div class=\"colab-df-container\">\n",
              "      <div>\n",
              "<style scoped>\n",
              "    .dataframe tbody tr th:only-of-type {\n",
              "        vertical-align: middle;\n",
              "    }\n",
              "\n",
              "    .dataframe tbody tr th {\n",
              "        vertical-align: top;\n",
              "    }\n",
              "\n",
              "    .dataframe thead th {\n",
              "        text-align: right;\n",
              "    }\n",
              "</style>\n",
              "<table border=\"1\" class=\"dataframe\">\n",
              "  <thead>\n",
              "    <tr style=\"text-align: right;\">\n",
              "      <th></th>\n",
              "      <th>date</th>\n",
              "      <th>Temperature</th>\n",
              "      <th>Humidity</th>\n",
              "      <th>Light</th>\n",
              "      <th>CO2</th>\n",
              "      <th>HumidityRatio</th>\n",
              "      <th>Occupancy</th>\n",
              "    </tr>\n",
              "  </thead>\n",
              "  <tbody>\n",
              "    <tr>\n",
              "      <th>1</th>\n",
              "      <td>2015-02-04 17:51:00</td>\n",
              "      <td>23.18</td>\n",
              "      <td>27.2720</td>\n",
              "      <td>426.0</td>\n",
              "      <td>721.250000</td>\n",
              "      <td>0.004793</td>\n",
              "      <td>1</td>\n",
              "    </tr>\n",
              "    <tr>\n",
              "      <th>2</th>\n",
              "      <td>2015-02-04 17:51:59</td>\n",
              "      <td>23.15</td>\n",
              "      <td>27.2675</td>\n",
              "      <td>429.5</td>\n",
              "      <td>714.000000</td>\n",
              "      <td>0.004783</td>\n",
              "      <td>1</td>\n",
              "    </tr>\n",
              "    <tr>\n",
              "      <th>3</th>\n",
              "      <td>2015-02-04 17:53:00</td>\n",
              "      <td>23.15</td>\n",
              "      <td>27.2450</td>\n",
              "      <td>426.0</td>\n",
              "      <td>713.500000</td>\n",
              "      <td>0.004779</td>\n",
              "      <td>1</td>\n",
              "    </tr>\n",
              "    <tr>\n",
              "      <th>4</th>\n",
              "      <td>2015-02-04 17:54:00</td>\n",
              "      <td>23.15</td>\n",
              "      <td>27.2000</td>\n",
              "      <td>426.0</td>\n",
              "      <td>708.250000</td>\n",
              "      <td>0.004772</td>\n",
              "      <td>1</td>\n",
              "    </tr>\n",
              "    <tr>\n",
              "      <th>5</th>\n",
              "      <td>2015-02-04 17:55:00</td>\n",
              "      <td>23.10</td>\n",
              "      <td>27.2000</td>\n",
              "      <td>426.0</td>\n",
              "      <td>704.500000</td>\n",
              "      <td>0.004757</td>\n",
              "      <td>1</td>\n",
              "    </tr>\n",
              "    <tr>\n",
              "      <th>...</th>\n",
              "      <td>...</td>\n",
              "      <td>...</td>\n",
              "      <td>...</td>\n",
              "      <td>...</td>\n",
              "      <td>...</td>\n",
              "      <td>...</td>\n",
              "      <td>...</td>\n",
              "    </tr>\n",
              "    <tr>\n",
              "      <th>8139</th>\n",
              "      <td>2015-02-10 09:29:00</td>\n",
              "      <td>21.05</td>\n",
              "      <td>36.0975</td>\n",
              "      <td>433.0</td>\n",
              "      <td>787.250000</td>\n",
              "      <td>0.005579</td>\n",
              "      <td>1</td>\n",
              "    </tr>\n",
              "    <tr>\n",
              "      <th>8140</th>\n",
              "      <td>2015-02-10 09:29:59</td>\n",
              "      <td>21.05</td>\n",
              "      <td>35.9950</td>\n",
              "      <td>433.0</td>\n",
              "      <td>789.500000</td>\n",
              "      <td>0.005563</td>\n",
              "      <td>1</td>\n",
              "    </tr>\n",
              "    <tr>\n",
              "      <th>8141</th>\n",
              "      <td>2015-02-10 09:30:59</td>\n",
              "      <td>21.10</td>\n",
              "      <td>36.0950</td>\n",
              "      <td>433.0</td>\n",
              "      <td>798.500000</td>\n",
              "      <td>0.005596</td>\n",
              "      <td>1</td>\n",
              "    </tr>\n",
              "    <tr>\n",
              "      <th>8142</th>\n",
              "      <td>2015-02-10 09:32:00</td>\n",
              "      <td>21.10</td>\n",
              "      <td>36.2600</td>\n",
              "      <td>433.0</td>\n",
              "      <td>820.333333</td>\n",
              "      <td>0.005621</td>\n",
              "      <td>1</td>\n",
              "    </tr>\n",
              "    <tr>\n",
              "      <th>8143</th>\n",
              "      <td>2015-02-10 09:33:00</td>\n",
              "      <td>21.10</td>\n",
              "      <td>36.2000</td>\n",
              "      <td>447.0</td>\n",
              "      <td>821.000000</td>\n",
              "      <td>0.005612</td>\n",
              "      <td>1</td>\n",
              "    </tr>\n",
              "  </tbody>\n",
              "</table>\n",
              "<p>8143 rows × 7 columns</p>\n",
              "</div>\n",
              "      <button class=\"colab-df-convert\" onclick=\"convertToInteractive('df-51efd88b-c70e-4b82-a8b1-8846b22cdcbf')\"\n",
              "              title=\"Convert this dataframe to an interactive table.\"\n",
              "              style=\"display:none;\">\n",
              "        \n",
              "  <svg xmlns=\"http://www.w3.org/2000/svg\" height=\"24px\"viewBox=\"0 0 24 24\"\n",
              "       width=\"24px\">\n",
              "    <path d=\"M0 0h24v24H0V0z\" fill=\"none\"/>\n",
              "    <path d=\"M18.56 5.44l.94 2.06.94-2.06 2.06-.94-2.06-.94-.94-2.06-.94 2.06-2.06.94zm-11 1L8.5 8.5l.94-2.06 2.06-.94-2.06-.94L8.5 2.5l-.94 2.06-2.06.94zm10 10l.94 2.06.94-2.06 2.06-.94-2.06-.94-.94-2.06-.94 2.06-2.06.94z\"/><path d=\"M17.41 7.96l-1.37-1.37c-.4-.4-.92-.59-1.43-.59-.52 0-1.04.2-1.43.59L10.3 9.45l-7.72 7.72c-.78.78-.78 2.05 0 2.83L4 21.41c.39.39.9.59 1.41.59.51 0 1.02-.2 1.41-.59l7.78-7.78 2.81-2.81c.8-.78.8-2.07 0-2.86zM5.41 20L4 18.59l7.72-7.72 1.47 1.35L5.41 20z\"/>\n",
              "  </svg>\n",
              "      </button>\n",
              "      \n",
              "  <style>\n",
              "    .colab-df-container {\n",
              "      display:flex;\n",
              "      flex-wrap:wrap;\n",
              "      gap: 12px;\n",
              "    }\n",
              "\n",
              "    .colab-df-convert {\n",
              "      background-color: #E8F0FE;\n",
              "      border: none;\n",
              "      border-radius: 50%;\n",
              "      cursor: pointer;\n",
              "      display: none;\n",
              "      fill: #1967D2;\n",
              "      height: 32px;\n",
              "      padding: 0 0 0 0;\n",
              "      width: 32px;\n",
              "    }\n",
              "\n",
              "    .colab-df-convert:hover {\n",
              "      background-color: #E2EBFA;\n",
              "      box-shadow: 0px 1px 2px rgba(60, 64, 67, 0.3), 0px 1px 3px 1px rgba(60, 64, 67, 0.15);\n",
              "      fill: #174EA6;\n",
              "    }\n",
              "\n",
              "    [theme=dark] .colab-df-convert {\n",
              "      background-color: #3B4455;\n",
              "      fill: #D2E3FC;\n",
              "    }\n",
              "\n",
              "    [theme=dark] .colab-df-convert:hover {\n",
              "      background-color: #434B5C;\n",
              "      box-shadow: 0px 1px 3px 1px rgba(0, 0, 0, 0.15);\n",
              "      filter: drop-shadow(0px 1px 2px rgba(0, 0, 0, 0.3));\n",
              "      fill: #FFFFFF;\n",
              "    }\n",
              "  </style>\n",
              "\n",
              "      <script>\n",
              "        const buttonEl =\n",
              "          document.querySelector('#df-51efd88b-c70e-4b82-a8b1-8846b22cdcbf button.colab-df-convert');\n",
              "        buttonEl.style.display =\n",
              "          google.colab.kernel.accessAllowed ? 'block' : 'none';\n",
              "\n",
              "        async function convertToInteractive(key) {\n",
              "          const element = document.querySelector('#df-51efd88b-c70e-4b82-a8b1-8846b22cdcbf');\n",
              "          const dataTable =\n",
              "            await google.colab.kernel.invokeFunction('convertToInteractive',\n",
              "                                                     [key], {});\n",
              "          if (!dataTable) return;\n",
              "\n",
              "          const docLinkHtml = 'Like what you see? Visit the ' +\n",
              "            '<a target=\"_blank\" href=https://colab.research.google.com/notebooks/data_table.ipynb>data table notebook</a>'\n",
              "            + ' to learn more about interactive tables.';\n",
              "          element.innerHTML = '';\n",
              "          dataTable['output_type'] = 'display_data';\n",
              "          await google.colab.output.renderOutput(dataTable, element);\n",
              "          const docLink = document.createElement('div');\n",
              "          docLink.innerHTML = docLinkHtml;\n",
              "          element.appendChild(docLink);\n",
              "        }\n",
              "      </script>\n",
              "    </div>\n",
              "  </div>\n",
              "  "
            ]
          },
          "metadata": {},
          "execution_count": 22
        }
      ]
    },
    {
      "cell_type": "code",
      "source": [
        "ocupacion_test1 = pd.read_csv('/content/drive/MyDrive/MAyF/Aprendizaje de Máquinas/2023/Talleres y tareas/Taller 1/data_ocupacion/datatest_room.txt', sep=',')\n",
        "ocupacion_test1\n"
      ],
      "metadata": {
        "colab": {
          "base_uri": "https://localhost:8080/",
          "height": 424
        },
        "id": "mvqJd1xIvrx6",
        "outputId": "5540184f-4533-499a-8b57-92ebd798fc8e"
      },
      "execution_count": null,
      "outputs": [
        {
          "output_type": "execute_result",
          "data": {
            "text/plain": [
              "                     date  Temperature   Humidity       Light          CO2  \\\n",
              "140   2015-02-02 14:19:00    23.700000  26.272000  585.200000   749.200000   \n",
              "141   2015-02-02 14:19:59    23.718000  26.290000  578.400000   760.400000   \n",
              "142   2015-02-02 14:21:00    23.730000  26.230000  572.666667   769.666667   \n",
              "143   2015-02-02 14:22:00    23.722500  26.125000  493.750000   774.750000   \n",
              "144   2015-02-02 14:23:00    23.754000  26.200000  488.600000   779.000000   \n",
              "...                   ...          ...        ...         ...          ...   \n",
              "2800  2015-02-04 10:38:59    24.290000  25.700000  808.000000  1150.250000   \n",
              "2801  2015-02-04 10:40:00    24.330000  25.736000  809.800000  1129.200000   \n",
              "2802  2015-02-04 10:40:59    24.330000  25.700000  817.000000  1125.800000   \n",
              "2803  2015-02-04 10:41:59    24.356667  25.700000  813.000000  1123.000000   \n",
              "2804  2015-02-04 10:43:00    24.408333  25.681667  798.000000  1124.000000   \n",
              "\n",
              "      HumidityRatio  Occupancy  \n",
              "140        0.004764          1  \n",
              "141        0.004773          1  \n",
              "142        0.004765          1  \n",
              "143        0.004744          1  \n",
              "144        0.004767          1  \n",
              "...             ...        ...  \n",
              "2800       0.004829          1  \n",
              "2801       0.004848          1  \n",
              "2802       0.004841          1  \n",
              "2803       0.004849          1  \n",
              "2804       0.004860          1  \n",
              "\n",
              "[2665 rows x 7 columns]"
            ],
            "text/html": [
              "\n",
              "  <div id=\"df-3378629e-aa75-482b-951b-4d0e93cc918c\">\n",
              "    <div class=\"colab-df-container\">\n",
              "      <div>\n",
              "<style scoped>\n",
              "    .dataframe tbody tr th:only-of-type {\n",
              "        vertical-align: middle;\n",
              "    }\n",
              "\n",
              "    .dataframe tbody tr th {\n",
              "        vertical-align: top;\n",
              "    }\n",
              "\n",
              "    .dataframe thead th {\n",
              "        text-align: right;\n",
              "    }\n",
              "</style>\n",
              "<table border=\"1\" class=\"dataframe\">\n",
              "  <thead>\n",
              "    <tr style=\"text-align: right;\">\n",
              "      <th></th>\n",
              "      <th>date</th>\n",
              "      <th>Temperature</th>\n",
              "      <th>Humidity</th>\n",
              "      <th>Light</th>\n",
              "      <th>CO2</th>\n",
              "      <th>HumidityRatio</th>\n",
              "      <th>Occupancy</th>\n",
              "    </tr>\n",
              "  </thead>\n",
              "  <tbody>\n",
              "    <tr>\n",
              "      <th>140</th>\n",
              "      <td>2015-02-02 14:19:00</td>\n",
              "      <td>23.700000</td>\n",
              "      <td>26.272000</td>\n",
              "      <td>585.200000</td>\n",
              "      <td>749.200000</td>\n",
              "      <td>0.004764</td>\n",
              "      <td>1</td>\n",
              "    </tr>\n",
              "    <tr>\n",
              "      <th>141</th>\n",
              "      <td>2015-02-02 14:19:59</td>\n",
              "      <td>23.718000</td>\n",
              "      <td>26.290000</td>\n",
              "      <td>578.400000</td>\n",
              "      <td>760.400000</td>\n",
              "      <td>0.004773</td>\n",
              "      <td>1</td>\n",
              "    </tr>\n",
              "    <tr>\n",
              "      <th>142</th>\n",
              "      <td>2015-02-02 14:21:00</td>\n",
              "      <td>23.730000</td>\n",
              "      <td>26.230000</td>\n",
              "      <td>572.666667</td>\n",
              "      <td>769.666667</td>\n",
              "      <td>0.004765</td>\n",
              "      <td>1</td>\n",
              "    </tr>\n",
              "    <tr>\n",
              "      <th>143</th>\n",
              "      <td>2015-02-02 14:22:00</td>\n",
              "      <td>23.722500</td>\n",
              "      <td>26.125000</td>\n",
              "      <td>493.750000</td>\n",
              "      <td>774.750000</td>\n",
              "      <td>0.004744</td>\n",
              "      <td>1</td>\n",
              "    </tr>\n",
              "    <tr>\n",
              "      <th>144</th>\n",
              "      <td>2015-02-02 14:23:00</td>\n",
              "      <td>23.754000</td>\n",
              "      <td>26.200000</td>\n",
              "      <td>488.600000</td>\n",
              "      <td>779.000000</td>\n",
              "      <td>0.004767</td>\n",
              "      <td>1</td>\n",
              "    </tr>\n",
              "    <tr>\n",
              "      <th>...</th>\n",
              "      <td>...</td>\n",
              "      <td>...</td>\n",
              "      <td>...</td>\n",
              "      <td>...</td>\n",
              "      <td>...</td>\n",
              "      <td>...</td>\n",
              "      <td>...</td>\n",
              "    </tr>\n",
              "    <tr>\n",
              "      <th>2800</th>\n",
              "      <td>2015-02-04 10:38:59</td>\n",
              "      <td>24.290000</td>\n",
              "      <td>25.700000</td>\n",
              "      <td>808.000000</td>\n",
              "      <td>1150.250000</td>\n",
              "      <td>0.004829</td>\n",
              "      <td>1</td>\n",
              "    </tr>\n",
              "    <tr>\n",
              "      <th>2801</th>\n",
              "      <td>2015-02-04 10:40:00</td>\n",
              "      <td>24.330000</td>\n",
              "      <td>25.736000</td>\n",
              "      <td>809.800000</td>\n",
              "      <td>1129.200000</td>\n",
              "      <td>0.004848</td>\n",
              "      <td>1</td>\n",
              "    </tr>\n",
              "    <tr>\n",
              "      <th>2802</th>\n",
              "      <td>2015-02-04 10:40:59</td>\n",
              "      <td>24.330000</td>\n",
              "      <td>25.700000</td>\n",
              "      <td>817.000000</td>\n",
              "      <td>1125.800000</td>\n",
              "      <td>0.004841</td>\n",
              "      <td>1</td>\n",
              "    </tr>\n",
              "    <tr>\n",
              "      <th>2803</th>\n",
              "      <td>2015-02-04 10:41:59</td>\n",
              "      <td>24.356667</td>\n",
              "      <td>25.700000</td>\n",
              "      <td>813.000000</td>\n",
              "      <td>1123.000000</td>\n",
              "      <td>0.004849</td>\n",
              "      <td>1</td>\n",
              "    </tr>\n",
              "    <tr>\n",
              "      <th>2804</th>\n",
              "      <td>2015-02-04 10:43:00</td>\n",
              "      <td>24.408333</td>\n",
              "      <td>25.681667</td>\n",
              "      <td>798.000000</td>\n",
              "      <td>1124.000000</td>\n",
              "      <td>0.004860</td>\n",
              "      <td>1</td>\n",
              "    </tr>\n",
              "  </tbody>\n",
              "</table>\n",
              "<p>2665 rows × 7 columns</p>\n",
              "</div>\n",
              "      <button class=\"colab-df-convert\" onclick=\"convertToInteractive('df-3378629e-aa75-482b-951b-4d0e93cc918c')\"\n",
              "              title=\"Convert this dataframe to an interactive table.\"\n",
              "              style=\"display:none;\">\n",
              "        \n",
              "  <svg xmlns=\"http://www.w3.org/2000/svg\" height=\"24px\"viewBox=\"0 0 24 24\"\n",
              "       width=\"24px\">\n",
              "    <path d=\"M0 0h24v24H0V0z\" fill=\"none\"/>\n",
              "    <path d=\"M18.56 5.44l.94 2.06.94-2.06 2.06-.94-2.06-.94-.94-2.06-.94 2.06-2.06.94zm-11 1L8.5 8.5l.94-2.06 2.06-.94-2.06-.94L8.5 2.5l-.94 2.06-2.06.94zm10 10l.94 2.06.94-2.06 2.06-.94-2.06-.94-.94-2.06-.94 2.06-2.06.94z\"/><path d=\"M17.41 7.96l-1.37-1.37c-.4-.4-.92-.59-1.43-.59-.52 0-1.04.2-1.43.59L10.3 9.45l-7.72 7.72c-.78.78-.78 2.05 0 2.83L4 21.41c.39.39.9.59 1.41.59.51 0 1.02-.2 1.41-.59l7.78-7.78 2.81-2.81c.8-.78.8-2.07 0-2.86zM5.41 20L4 18.59l7.72-7.72 1.47 1.35L5.41 20z\"/>\n",
              "  </svg>\n",
              "      </button>\n",
              "      \n",
              "  <style>\n",
              "    .colab-df-container {\n",
              "      display:flex;\n",
              "      flex-wrap:wrap;\n",
              "      gap: 12px;\n",
              "    }\n",
              "\n",
              "    .colab-df-convert {\n",
              "      background-color: #E8F0FE;\n",
              "      border: none;\n",
              "      border-radius: 50%;\n",
              "      cursor: pointer;\n",
              "      display: none;\n",
              "      fill: #1967D2;\n",
              "      height: 32px;\n",
              "      padding: 0 0 0 0;\n",
              "      width: 32px;\n",
              "    }\n",
              "\n",
              "    .colab-df-convert:hover {\n",
              "      background-color: #E2EBFA;\n",
              "      box-shadow: 0px 1px 2px rgba(60, 64, 67, 0.3), 0px 1px 3px 1px rgba(60, 64, 67, 0.15);\n",
              "      fill: #174EA6;\n",
              "    }\n",
              "\n",
              "    [theme=dark] .colab-df-convert {\n",
              "      background-color: #3B4455;\n",
              "      fill: #D2E3FC;\n",
              "    }\n",
              "\n",
              "    [theme=dark] .colab-df-convert:hover {\n",
              "      background-color: #434B5C;\n",
              "      box-shadow: 0px 1px 3px 1px rgba(0, 0, 0, 0.15);\n",
              "      filter: drop-shadow(0px 1px 2px rgba(0, 0, 0, 0.3));\n",
              "      fill: #FFFFFF;\n",
              "    }\n",
              "  </style>\n",
              "\n",
              "      <script>\n",
              "        const buttonEl =\n",
              "          document.querySelector('#df-3378629e-aa75-482b-951b-4d0e93cc918c button.colab-df-convert');\n",
              "        buttonEl.style.display =\n",
              "          google.colab.kernel.accessAllowed ? 'block' : 'none';\n",
              "\n",
              "        async function convertToInteractive(key) {\n",
              "          const element = document.querySelector('#df-3378629e-aa75-482b-951b-4d0e93cc918c');\n",
              "          const dataTable =\n",
              "            await google.colab.kernel.invokeFunction('convertToInteractive',\n",
              "                                                     [key], {});\n",
              "          if (!dataTable) return;\n",
              "\n",
              "          const docLinkHtml = 'Like what you see? Visit the ' +\n",
              "            '<a target=\"_blank\" href=https://colab.research.google.com/notebooks/data_table.ipynb>data table notebook</a>'\n",
              "            + ' to learn more about interactive tables.';\n",
              "          element.innerHTML = '';\n",
              "          dataTable['output_type'] = 'display_data';\n",
              "          await google.colab.output.renderOutput(dataTable, element);\n",
              "          const docLink = document.createElement('div');\n",
              "          docLink.innerHTML = docLinkHtml;\n",
              "          element.appendChild(docLink);\n",
              "        }\n",
              "      </script>\n",
              "    </div>\n",
              "  </div>\n",
              "  "
            ]
          },
          "metadata": {},
          "execution_count": 23
        }
      ]
    },
    {
      "cell_type": "code",
      "source": [
        "ocupacion_test2 = pd.read_csv('/content/drive/MyDrive/MAyF/Aprendizaje de Máquinas/2023/Talleres y tareas/Taller 1/data_ocupacion/datatest2_room.txt', sep=',')\n",
        "ocupacion_test2"
      ],
      "metadata": {
        "colab": {
          "base_uri": "https://localhost:8080/",
          "height": 424
        },
        "id": "fDQ2SNGivwq2",
        "outputId": "eee0c94b-fb73-4b4b-a48d-9e7a816218a4"
      },
      "execution_count": null,
      "outputs": [
        {
          "output_type": "execute_result",
          "data": {
            "text/plain": [
              "                     date  Temperature   Humidity       Light          CO2  \\\n",
              "1     2015-02-11 14:48:00      21.7600  31.133333  437.333333  1029.666667   \n",
              "2     2015-02-11 14:49:00      21.7900  31.000000  437.333333  1000.000000   \n",
              "3     2015-02-11 14:50:00      21.7675  31.122500  434.000000  1003.750000   \n",
              "4     2015-02-11 14:51:00      21.7675  31.122500  439.000000  1009.500000   \n",
              "5     2015-02-11 14:51:59      21.7900  31.133333  437.333333  1005.666667   \n",
              "...                   ...          ...        ...         ...          ...   \n",
              "9748  2015-02-18 09:15:00      20.8150  27.717500  429.750000  1505.250000   \n",
              "9749  2015-02-18 09:16:00      20.8650  27.745000  423.500000  1514.500000   \n",
              "9750  2015-02-18 09:16:59      20.8900  27.745000  423.500000  1521.500000   \n",
              "9751  2015-02-18 09:17:59      20.8900  28.022500  418.750000  1632.000000   \n",
              "9752  2015-02-18 09:19:00      21.0000  28.100000  409.000000  1864.000000   \n",
              "\n",
              "      HumidityRatio  Occupancy  \n",
              "1          0.005021          1  \n",
              "2          0.005009          1  \n",
              "3          0.005022          1  \n",
              "4          0.005022          1  \n",
              "5          0.005030          1  \n",
              "...             ...        ...  \n",
              "9748       0.004213          1  \n",
              "9749       0.004230          1  \n",
              "9750       0.004237          1  \n",
              "9751       0.004279          1  \n",
              "9752       0.004321          1  \n",
              "\n",
              "[9752 rows x 7 columns]"
            ],
            "text/html": [
              "\n",
              "  <div id=\"df-f5af7cbf-670a-469b-a79d-5e2fbd9b0187\">\n",
              "    <div class=\"colab-df-container\">\n",
              "      <div>\n",
              "<style scoped>\n",
              "    .dataframe tbody tr th:only-of-type {\n",
              "        vertical-align: middle;\n",
              "    }\n",
              "\n",
              "    .dataframe tbody tr th {\n",
              "        vertical-align: top;\n",
              "    }\n",
              "\n",
              "    .dataframe thead th {\n",
              "        text-align: right;\n",
              "    }\n",
              "</style>\n",
              "<table border=\"1\" class=\"dataframe\">\n",
              "  <thead>\n",
              "    <tr style=\"text-align: right;\">\n",
              "      <th></th>\n",
              "      <th>date</th>\n",
              "      <th>Temperature</th>\n",
              "      <th>Humidity</th>\n",
              "      <th>Light</th>\n",
              "      <th>CO2</th>\n",
              "      <th>HumidityRatio</th>\n",
              "      <th>Occupancy</th>\n",
              "    </tr>\n",
              "  </thead>\n",
              "  <tbody>\n",
              "    <tr>\n",
              "      <th>1</th>\n",
              "      <td>2015-02-11 14:48:00</td>\n",
              "      <td>21.7600</td>\n",
              "      <td>31.133333</td>\n",
              "      <td>437.333333</td>\n",
              "      <td>1029.666667</td>\n",
              "      <td>0.005021</td>\n",
              "      <td>1</td>\n",
              "    </tr>\n",
              "    <tr>\n",
              "      <th>2</th>\n",
              "      <td>2015-02-11 14:49:00</td>\n",
              "      <td>21.7900</td>\n",
              "      <td>31.000000</td>\n",
              "      <td>437.333333</td>\n",
              "      <td>1000.000000</td>\n",
              "      <td>0.005009</td>\n",
              "      <td>1</td>\n",
              "    </tr>\n",
              "    <tr>\n",
              "      <th>3</th>\n",
              "      <td>2015-02-11 14:50:00</td>\n",
              "      <td>21.7675</td>\n",
              "      <td>31.122500</td>\n",
              "      <td>434.000000</td>\n",
              "      <td>1003.750000</td>\n",
              "      <td>0.005022</td>\n",
              "      <td>1</td>\n",
              "    </tr>\n",
              "    <tr>\n",
              "      <th>4</th>\n",
              "      <td>2015-02-11 14:51:00</td>\n",
              "      <td>21.7675</td>\n",
              "      <td>31.122500</td>\n",
              "      <td>439.000000</td>\n",
              "      <td>1009.500000</td>\n",
              "      <td>0.005022</td>\n",
              "      <td>1</td>\n",
              "    </tr>\n",
              "    <tr>\n",
              "      <th>5</th>\n",
              "      <td>2015-02-11 14:51:59</td>\n",
              "      <td>21.7900</td>\n",
              "      <td>31.133333</td>\n",
              "      <td>437.333333</td>\n",
              "      <td>1005.666667</td>\n",
              "      <td>0.005030</td>\n",
              "      <td>1</td>\n",
              "    </tr>\n",
              "    <tr>\n",
              "      <th>...</th>\n",
              "      <td>...</td>\n",
              "      <td>...</td>\n",
              "      <td>...</td>\n",
              "      <td>...</td>\n",
              "      <td>...</td>\n",
              "      <td>...</td>\n",
              "      <td>...</td>\n",
              "    </tr>\n",
              "    <tr>\n",
              "      <th>9748</th>\n",
              "      <td>2015-02-18 09:15:00</td>\n",
              "      <td>20.8150</td>\n",
              "      <td>27.717500</td>\n",
              "      <td>429.750000</td>\n",
              "      <td>1505.250000</td>\n",
              "      <td>0.004213</td>\n",
              "      <td>1</td>\n",
              "    </tr>\n",
              "    <tr>\n",
              "      <th>9749</th>\n",
              "      <td>2015-02-18 09:16:00</td>\n",
              "      <td>20.8650</td>\n",
              "      <td>27.745000</td>\n",
              "      <td>423.500000</td>\n",
              "      <td>1514.500000</td>\n",
              "      <td>0.004230</td>\n",
              "      <td>1</td>\n",
              "    </tr>\n",
              "    <tr>\n",
              "      <th>9750</th>\n",
              "      <td>2015-02-18 09:16:59</td>\n",
              "      <td>20.8900</td>\n",
              "      <td>27.745000</td>\n",
              "      <td>423.500000</td>\n",
              "      <td>1521.500000</td>\n",
              "      <td>0.004237</td>\n",
              "      <td>1</td>\n",
              "    </tr>\n",
              "    <tr>\n",
              "      <th>9751</th>\n",
              "      <td>2015-02-18 09:17:59</td>\n",
              "      <td>20.8900</td>\n",
              "      <td>28.022500</td>\n",
              "      <td>418.750000</td>\n",
              "      <td>1632.000000</td>\n",
              "      <td>0.004279</td>\n",
              "      <td>1</td>\n",
              "    </tr>\n",
              "    <tr>\n",
              "      <th>9752</th>\n",
              "      <td>2015-02-18 09:19:00</td>\n",
              "      <td>21.0000</td>\n",
              "      <td>28.100000</td>\n",
              "      <td>409.000000</td>\n",
              "      <td>1864.000000</td>\n",
              "      <td>0.004321</td>\n",
              "      <td>1</td>\n",
              "    </tr>\n",
              "  </tbody>\n",
              "</table>\n",
              "<p>9752 rows × 7 columns</p>\n",
              "</div>\n",
              "      <button class=\"colab-df-convert\" onclick=\"convertToInteractive('df-f5af7cbf-670a-469b-a79d-5e2fbd9b0187')\"\n",
              "              title=\"Convert this dataframe to an interactive table.\"\n",
              "              style=\"display:none;\">\n",
              "        \n",
              "  <svg xmlns=\"http://www.w3.org/2000/svg\" height=\"24px\"viewBox=\"0 0 24 24\"\n",
              "       width=\"24px\">\n",
              "    <path d=\"M0 0h24v24H0V0z\" fill=\"none\"/>\n",
              "    <path d=\"M18.56 5.44l.94 2.06.94-2.06 2.06-.94-2.06-.94-.94-2.06-.94 2.06-2.06.94zm-11 1L8.5 8.5l.94-2.06 2.06-.94-2.06-.94L8.5 2.5l-.94 2.06-2.06.94zm10 10l.94 2.06.94-2.06 2.06-.94-2.06-.94-.94-2.06-.94 2.06-2.06.94z\"/><path d=\"M17.41 7.96l-1.37-1.37c-.4-.4-.92-.59-1.43-.59-.52 0-1.04.2-1.43.59L10.3 9.45l-7.72 7.72c-.78.78-.78 2.05 0 2.83L4 21.41c.39.39.9.59 1.41.59.51 0 1.02-.2 1.41-.59l7.78-7.78 2.81-2.81c.8-.78.8-2.07 0-2.86zM5.41 20L4 18.59l7.72-7.72 1.47 1.35L5.41 20z\"/>\n",
              "  </svg>\n",
              "      </button>\n",
              "      \n",
              "  <style>\n",
              "    .colab-df-container {\n",
              "      display:flex;\n",
              "      flex-wrap:wrap;\n",
              "      gap: 12px;\n",
              "    }\n",
              "\n",
              "    .colab-df-convert {\n",
              "      background-color: #E8F0FE;\n",
              "      border: none;\n",
              "      border-radius: 50%;\n",
              "      cursor: pointer;\n",
              "      display: none;\n",
              "      fill: #1967D2;\n",
              "      height: 32px;\n",
              "      padding: 0 0 0 0;\n",
              "      width: 32px;\n",
              "    }\n",
              "\n",
              "    .colab-df-convert:hover {\n",
              "      background-color: #E2EBFA;\n",
              "      box-shadow: 0px 1px 2px rgba(60, 64, 67, 0.3), 0px 1px 3px 1px rgba(60, 64, 67, 0.15);\n",
              "      fill: #174EA6;\n",
              "    }\n",
              "\n",
              "    [theme=dark] .colab-df-convert {\n",
              "      background-color: #3B4455;\n",
              "      fill: #D2E3FC;\n",
              "    }\n",
              "\n",
              "    [theme=dark] .colab-df-convert:hover {\n",
              "      background-color: #434B5C;\n",
              "      box-shadow: 0px 1px 3px 1px rgba(0, 0, 0, 0.15);\n",
              "      filter: drop-shadow(0px 1px 2px rgba(0, 0, 0, 0.3));\n",
              "      fill: #FFFFFF;\n",
              "    }\n",
              "  </style>\n",
              "\n",
              "      <script>\n",
              "        const buttonEl =\n",
              "          document.querySelector('#df-f5af7cbf-670a-469b-a79d-5e2fbd9b0187 button.colab-df-convert');\n",
              "        buttonEl.style.display =\n",
              "          google.colab.kernel.accessAllowed ? 'block' : 'none';\n",
              "\n",
              "        async function convertToInteractive(key) {\n",
              "          const element = document.querySelector('#df-f5af7cbf-670a-469b-a79d-5e2fbd9b0187');\n",
              "          const dataTable =\n",
              "            await google.colab.kernel.invokeFunction('convertToInteractive',\n",
              "                                                     [key], {});\n",
              "          if (!dataTable) return;\n",
              "\n",
              "          const docLinkHtml = 'Like what you see? Visit the ' +\n",
              "            '<a target=\"_blank\" href=https://colab.research.google.com/notebooks/data_table.ipynb>data table notebook</a>'\n",
              "            + ' to learn more about interactive tables.';\n",
              "          element.innerHTML = '';\n",
              "          dataTable['output_type'] = 'display_data';\n",
              "          await google.colab.output.renderOutput(dataTable, element);\n",
              "          const docLink = document.createElement('div');\n",
              "          docLink.innerHTML = docLinkHtml;\n",
              "          element.appendChild(docLink);\n",
              "        }\n",
              "      </script>\n",
              "    </div>\n",
              "  </div>\n",
              "  "
            ]
          },
          "metadata": {},
          "execution_count": 24
        }
      ]
    }
  ]
}