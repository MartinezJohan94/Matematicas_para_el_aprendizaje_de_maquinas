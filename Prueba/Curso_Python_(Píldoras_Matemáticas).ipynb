{
  "nbformat": 4,
  "nbformat_minor": 0,
  "metadata": {
    "colab": {
      "provenance": [],
      "authorship_tag": "ABX9TyNBn+QTnf3DHfNnGKfex7Xd",
      "include_colab_link": true
    },
    "kernelspec": {
      "name": "python3",
      "display_name": "Python 3"
    },
    "language_info": {
      "name": "python"
    }
  },
  "cells": [
    {
      "cell_type": "markdown",
      "metadata": {
        "id": "view-in-github",
        "colab_type": "text"
      },
      "source": [
        "<a href=\"https://colab.research.google.com/github/MartinezJohan94/Matematicas_para_el_aprendizaje_de_maquinas/blob/main/Prueba/Curso_Python_(P%C3%ADldoras_Matem%C3%A1ticas).ipynb\" target=\"_parent\"><img src=\"https://colab.research.google.com/assets/colab-badge.svg\" alt=\"Open In Colab\"/></a>"
      ]
    },
    {
      "cell_type": "markdown",
      "source": [
        "En este documento, intentaremos realizar un \"curso rápido\" para poder implementar Python en nuestro curso de matemáticas para ML"
      ],
      "metadata": {
        "id": "ZIoW9bG1mcIe"
      }
    },
    {
      "cell_type": "code",
      "source": [
        "#operadores aritméticos\n",
        "5+6\n",
        "10%3  #Módulo\n",
        "5**3  #Exponente\n",
        "9//2  #División entera"
      ],
      "metadata": {
        "id": "XpYUd9Hb2v0-",
        "colab": {
          "base_uri": "https://localhost:8080/"
        },
        "outputId": "7a4ad41b-1657-4b92-944f-994a4044c38f"
      },
      "execution_count": null,
      "outputs": [
        {
          "output_type": "execute_result",
          "data": {
            "text/plain": [
              "4"
            ]
          },
          "metadata": {},
          "execution_count": 15
        }
      ]
    },
    {
      "cell_type": "code",
      "source": [
        "#Operadores y condicionales\n",
        "numero1=5\n",
        "numero2=7\n",
        "if numero1==numero2:\n",
        "  print(\"Los números son iguales\")\n",
        "else: \n",
        "  print(\"Los números son diferentes\")"
      ],
      "metadata": {
        "colab": {
          "base_uri": "https://localhost:8080/"
        },
        "id": "DQ6ZPeLmo4kJ",
        "outputId": "4ffda9e0-bfb8-4805-94e5-a12a1d341883"
      },
      "execution_count": null,
      "outputs": [
        {
          "output_type": "stream",
          "name": "stdout",
          "text": [
            "Los números son diferentes\n"
          ]
        }
      ]
    },
    {
      "cell_type": "code",
      "source": [
        "import numpy as np\n",
        "import math\n",
        "# FUNCIONES\n",
        "## ¿Qué son?\n",
        "## Son un conjunto de líneas de código agrupadas que funcionan como una unidad realizando una tarea específica, esta tarea puede dividirse en tareas más pequeñas.\n",
        "## Estas funciones pueden o no devolver valores.\n",
        "## Las funciones en py pueden tener parámetros/argumentos.\n",
        "## También se le llaman 'metodos' siempre y cuando se encuentren definidas dentro de una clase.\n",
        "\n",
        "## ¿Para qué sirven? (Utilidad)\n",
        "## Reutilización del código (cuando sea necesario o si es necesario)\n",
        "\n",
        "## SINTAXIS\n",
        "## def nombre_funcion(parámetros):\n",
        "   # A los paréntesis se les llama zona de parámetros o argumentos, puede que no se tengan.\n",
        "   # Después de los : se da la instrucciónd e la función. ES  IMPORTANTE DEJAR LA IDENTACIÓN (TAB)\n",
        "   # return (opcional) <- Se usa si se quiere revolver los parámetros\n",
        "   # para ejecutarla se escribe nombre_funcion() o nombre_función(parámetros) dependiendo si tiene o no parámetros\n",
        "\n",
        "def funcion_imprimir():                                                         #declaro la función\n",
        "  print(\"estoy aprendiendo Python modo dummie\")                                 #construyo el cuerpo (instrucciones de la función)\n",
        "  print(\"poco a poco reviso cosas básicas\")\n",
        "  print(\"Ojalá me rinda y saque el taller de ML pronto!\")\n",
        "  print(\"aiudaaaaaaaaaaaaaaa\")\n",
        "\n",
        "#funcion_imprimir()                                                              #Llamada de la función\n",
        "\n",
        "\n",
        "def suma(num1, num2):\n",
        "  resultado=print(\"el valor de la suma entre \",num1,\" y \",num2,\" es \",num1+num2)\n",
        "  return resultado\n",
        "\n",
        "suma(5,7)\n",
        "suma(6,np.pi)"
      ],
      "metadata": {
        "id": "opdAFCpkr3V5",
        "colab": {
          "base_uri": "https://localhost:8080/"
        },
        "outputId": "78aac0f0-8705-4e5f-b53c-5c25cc591b18"
      },
      "execution_count": null,
      "outputs": [
        {
          "output_type": "stream",
          "name": "stdout",
          "text": [
            "el valor de la suma entre  5  y  7  es  12\n",
            "el valor de la suma entre  6  y  3.141592653589793  es  9.141592653589793\n"
          ]
        }
      ]
    },
    {
      "cell_type": "code",
      "source": [
        "#LISTAS\n",
        "#Es una estructura de datos que permite almacenar gran cantidad de valores (equivalente al array o vectores respecto a su utilidad)\n",
        "#En Python las listas pueden guardar diferentetipo de valores (en otros lenguajes no ocurre esto con los array)\n",
        "#Se pueden expandir ´dinámicamente añadiendo nuevos elementos (otra novedad respecto a los array en otros lenguajes)\n",
        "\n",
        "## Sintaxis\n",
        "#nombrelista=[elem1,elem2,...,elemN] Puede tener 0, 1, o hasta N elementos\n",
        "# Como una lista nos permite almacenar varios valores, estos deben estar identificados y localizables, para ello se recurre a un índice (posición del elemento de la lista). \n",
        "# En Python, el primer índice (posición) es 0 y no 1.\n",
        "\n",
        "milista=[\"Sashita\", \"Rorrito\", \"Coqui\", \"LeBron\", \"Kawhy\"]\n",
        "print(milista[:])\n",
        "print(milista[0])\n",
        "print(milista[-1])                                                              #Cuando el índice es negativo, python da la vuelta a la lista pero ya no cuenta desde cero\n",
        "print(milista[0:3])                                                             #Accede a los elementos entre la posición 0 y 3 de la lista (Incluye el primer índice (0) pero no el segundo (3))\n",
        "print(milista[:3])                                                              #Si se omite el primer índice, por defecto Python toma el índice 0\n",
        "print(milista[1:4])\n",
        "print(milista[1:])                                                              #Si se omite el último índice, por defecto accede al primer índice y toma hasta el final incluyéndo el último valor de la lista\n",
        "\n",
        "#Para añadir elementos a una lista en python se utiliza la función \"apend\", esto es nombre_lista.append(elemento a agregar) (Se agrega al final)\n",
        "milista.append(\"Chiqui\")\n",
        "print(milista[:])\n",
        "\n",
        "#Si se quiere añadir en un punto intermedio se utiliza la función \"insert\", esto es nobre_lista.insert(posición o índice para agregar, elemtento a agregar)\n",
        "milista.insert(2,\"Manchitas\")\n",
        "print(milista[:])\n",
        "\n",
        "milista.insert(3, True)                                                            #no se requiere que todos los datos de la lista sean del mismo tipo.\n",
        "milista.insert(5,np.pi)\n",
        "\n",
        "#Si se quiere añadir varios elementos a una lista se utiliza la función \"extend\", esto es nombre_lista.extend([elementos, a, agregar])\n",
        "milista.extend([\"Kiko\", \"Curry\", \"Coqui\"])\n",
        "print(milista[:])\n",
        "\n",
        "#Si lo que se quiere es encontrar el índice de un elemento dentro de la lista se utiliza la función \"index\", esto es nombre_lista.index(elemento que se quiere saber el índice)\n",
        "milista.index(\"Chiqui\")\n",
        "\n",
        "#En caso tal que uyn elemento se encuentre repetido, la función \"index\" arroja el valor de la primer vez que aparece el elemento\n",
        "milista.index(\"Coqui\")\n",
        "\n",
        "#Si se quiere comprobar si un elemento se encuentra o no se encuentra dentro de una lista se utiliza la función \"in\" que arroja un valor TRUE o FALSE,\n",
        "#para ello se utiliza la sintaxis elemento in nombre_lista\n",
        "print(\"Curry\" in milista)\n",
        "print(\"Chonis\" in milista)\n",
        "\n",
        "#Para eliminar elementos se usa la función \"remove\", esto es nombre_lista.remove(elemento a eliminar)\n",
        "milista.remove(\"Kiko\")\n",
        "print(milista[:])\n",
        "\n",
        "#Si se desea eliminar el último elemento de la lista se usa la función pop, esto es nombre_lista.pop()\n",
        "milista.pop()\n",
        "print(milista[:])\n",
        "\n",
        "#El operador suma funciona como concatenador cuando se trabaja con listas\n",
        "milista1=[\"Sashita\", \"Coqui\", \"Rorrito\", \"LeBron\"]\n",
        "milista2=[13,7,5,2]\n",
        "milista3=milista1+milista2\n",
        "print(milista3[:])\n",
        "\n",
        "#Otro operador es multiplicación (*), cuando se usa con listas funciona como repetidor\n",
        "print(milista1*3)\n"
      ],
      "metadata": {
        "colab": {
          "base_uri": "https://localhost:8080/"
        },
        "id": "IvKZNxe_Gwoi",
        "outputId": "f53d3fdf-ee1e-42f6-da56-188c317efa11"
      },
      "execution_count": null,
      "outputs": [
        {
          "output_type": "stream",
          "name": "stdout",
          "text": [
            "['Sashita', 'Rorrito', 'Coqui', 'LeBron', 'Kawhy']\n",
            "Sashita\n",
            "Kawhy\n",
            "['Sashita', 'Rorrito', 'Coqui']\n",
            "['Sashita', 'Rorrito', 'Coqui']\n",
            "['Rorrito', 'Coqui', 'LeBron']\n",
            "['Rorrito', 'Coqui', 'LeBron', 'Kawhy']\n",
            "['Sashita', 'Rorrito', 'Coqui', 'LeBron', 'Kawhy', 'Chiqui']\n",
            "['Sashita', 'Rorrito', 'Manchitas', 'Coqui', 'LeBron', 'Kawhy', 'Chiqui']\n",
            "['Sashita', 'Rorrito', 'Manchitas', True, 'Coqui', 3.141592653589793, 'LeBron', 'Kawhy', 'Chiqui', 'Kiko', 'Curry', 'Coqui']\n",
            "True\n",
            "False\n",
            "['Sashita', 'Rorrito', 'Manchitas', True, 'Coqui', 3.141592653589793, 'LeBron', 'Kawhy', 'Chiqui', 'Curry', 'Coqui']\n",
            "['Sashita', 'Rorrito', 'Manchitas', True, 'Coqui', 3.141592653589793, 'LeBron', 'Kawhy', 'Chiqui', 'Curry']\n",
            "['Sashita', 'Coqui', 'Rorrito', 'LeBron', 13, 7, 5, 2]\n",
            "['Sashita', 'Coqui', 'Rorrito', 'LeBron', 'Sashita', 'Coqui', 'Rorrito', 'LeBron', 'Sashita', 'Coqui', 'Rorrito', 'LeBron']\n"
          ]
        }
      ]
    },
    {
      "cell_type": "code",
      "source": [
        "# TUPLAS\n",
        "#Son listas inmutables, es decir, no se pueden modificar después de su creación\n",
        "## No permite añadir, eliminar, mover elementos (no aplica append, extend, remove)\n",
        "## Si permite extraer porciones, pero el resultado de la extracción es una tupla nueva.\n",
        "## si permite comprobar si un elemento se encuentra en la tupla\n",
        "\n",
        "#¿Qué utilidad o ventaja tienen respecto a las listas?\n",
        "## Más rápidas (En ejecución)\n",
        "## Menor espacio de almacenamiento (mayor optimización)\n",
        "## Formatean Strings\n",
        "## Pueden utilizarse como claves dentro de un diccionario, las listas no\n",
        "\n",
        "#¿Cuál es la sintaxis?\n",
        "##Básicamente la misma que para las listas bajo la salvedad que en vez de [] se usan (), además, estos son opcionales (Se recomienda usarlos)\n",
        "#nombre_tupla=(elem1,elem2,...,elemN)\n",
        "#Manejan los mismos índices de las listas\n",
        "\n",
        "mitupla=(\"Sashita\", 2019, 8,2)\n",
        "mitupla[0]\n",
        "\n",
        "#Existen métodos para convertir tuplas en una lista se tiene el método \"list\". para ello se tendría nombre_lista=list(nombre_tupla)\n",
        "milistat=list(mitupla)\n",
        "print(milistat)\n",
        "print(mitupla)                                                                  #se ovserva la diferencia en la impresión por los paréntesis y corchetes\n",
        "\n",
        "#Para convertir ahora una lista en una tupla se utiliza el método \"tuple\", para ello se escribe nombre_tupla=tuple(nombre_lista)\n",
        "mituplal=tuple(milista)\n",
        "print(mituplal)\n",
        "\n",
        "#Podemos verificar si un elemento está dentro de una tupla\n",
        "print(\"Rorrito\" in mituplal)\n",
        "print(\"Rorrito\" in mitupla)\n",
        "\n",
        "#Si se quiere saber cuántos elementos se encuentran dentro de la tupla se usa el método \"count\", esto es, nombre_tupla.count(elemento que se quiere conocer)\n",
        "print(mituplal.count(\"Sashita\"))\n",
        "\n",
        "#Si se quiere conocer la longitud de la tupla se utiliza el método \"len\", esto es len(nombre_tupla)\n",
        "print(mituplal)\n",
        "print(len(mituplal))\n",
        "\n",
        "#Si se desea tener tuplas unitarias se debe colocar una , luego del elemento\n",
        "tupla_unit=(\"Chonis\",)                                                          #Si no se coloca la , entonces no habla de una tupla unitaria\n",
        "print(tupla_unit)\n",
        "print(len(tupla_unit))\n",
        "\n",
        "#es posible asignar cada elemento de una tupla a una variable (Se conoce como desempaquetado de tuplas), por ejemplo\n",
        "Nombre, anio,mes,dia = mitupla\n",
        "print(Nombre)\n",
        "print(anio)\n",
        "print(mes)\n",
        "print(dia)\n"
      ],
      "metadata": {
        "colab": {
          "base_uri": "https://localhost:8080/"
        },
        "id": "VE3qWePyTTLQ",
        "outputId": "29b4c3e6-56b1-463f-84f1-515d4b76e3a8"
      },
      "execution_count": null,
      "outputs": [
        {
          "output_type": "stream",
          "name": "stdout",
          "text": [
            "['Sashita', 2019, 8, 2]\n",
            "('Sashita', 2019, 8, 2)\n",
            "('Sashita', 'Rorrito', 'Manchitas', True, 'Coqui', 3.141592653589793, 'LeBron', 'Kawhy', 'Chiqui', 'Curry')\n",
            "True\n",
            "False\n",
            "1\n",
            "('Sashita', 'Rorrito', 'Manchitas', True, 'Coqui', 3.141592653589793, 'LeBron', 'Kawhy', 'Chiqui', 'Curry')\n",
            "10\n",
            "('Chonis',)\n",
            "1\n",
            "Sashita\n",
            "2019\n",
            "8\n",
            "2\n"
          ]
        }
      ]
    },
    {
      "cell_type": "code",
      "source": [
        "#DICCIONARIOS\n",
        "## Son estructuras de datos que permiten almacenar valores de diferente tipo (enteros, cadenas de texto, decimales) e incluso listas u otros diccionarios.\n",
        "## La principal característica de los diccionarios es que los datos se almacenan asociados a una clave de forma que se crea una asociación tipo clave:valor para cada elemento almacenado.\n",
        "### Esto significa que a cada valor que nosotros almacenamos en el diccionario se le asigna una clave única.\n",
        "## Los elementos almacenados no están ordenados. El orden es indiferente a la hora de almacenar información en un diccionario.\n",
        "\n",
        "#Su sintaxis es nombre_diccionario={\"clave:valor\"}\n",
        "midiccionario={\"Alemania\":\"Berlín\", \"Colombia\":\"Bogotá\", \"Espania\":\"Madrid\", \"Argentina\":\"Buenos Aires\", \"UK\":\"Londres\"}\n",
        "print(midiccionario)\n",
        "\n",
        "#Para acceder a un elemento en concreto del diccionario se le pregunta por la clave (En este caso países)\n",
        "print(midiccionario[\"Alemania\"])\n",
        "\n",
        "\n",
        "#Para agregar más elementos a un diccionario existente se utiliza nombre_diccionario[clave]=dato\n",
        "midiccionario[\"Italia\"]=\"Milán\"\n",
        "\n",
        "#Si quiero modificar un dato se sobreescribe\n",
        "midiccionario[\"Italia\"]=\"Roma\"\n",
        "print(midiccionario)\n",
        "\n",
        "\n",
        "#Si se quiere eliminar un elemento de un diccionario se utiliza el método \"del\", esto es, del nombre_diccionario[clave del elemento a eliminar]\n",
        "del midiccionario['Espania']\n",
        "print(midiccionario)\n",
        "\n",
        "\n",
        "#Diccionario con elementos de diferente tipo\n",
        "midiccionario1={\"Colombia\":\"Bogotá\", 29:\"Johan\", \"Stefany\":16}\n",
        "print(midiccionario1)\n",
        "\n",
        "#Se puede utilizar una tupla para asignar las claves a los valores para ello se utilizan los índices de la tupla\n",
        "tupla_claves=(\"Colombia\", \"Venezuela\", \"Perú\", \"Bolivia\", \"Ecuador\")\n",
        "print(tupla_claves)\n",
        "\n",
        "midiccionario2={tupla_claves[0]:\"Bogotá\", tupla_claves[1]:\"Caracas\", tupla_claves[2]:\"Lima\", tupla_claves[2]:\"La paz\", tupla_claves[3]:\"Quito\"}\n",
        "print(midiccionario2)\n",
        "\n",
        "#Si se quiere que el diccionario almacene una tupla \n",
        "midiccionario2={\"Nombre\":\"Kawhy\", \"Apellido\":\"Leonar\", \"Jersey\":2, \"Equipos\":[\"Spurs\", \"Raptors\", \"Clippers\"]}\n",
        "print(midiccionario2)\n",
        "print(midiccionario2[\"Equipos\"])\n",
        "\n",
        "\n",
        "#Podemos guardar un diccionario dentro de otro diccionario\n",
        "midiccionario2={\"Nombre\":\"Kawhy\", \"Apellido\":\"Leonar\", \"Jersey\":2, \"Equipos\":[\"Spurs\", \"Raptors\", \"Clippers\"],\"Títulos\":{\"Temporadas\":[2014,2019]}}\n",
        "print(midiccionario2)\n",
        "print(midiccionario2[\"Títulos\"])\n",
        "\n",
        "#si queremos saber las claves del diccionario utilizamos el método \"keys()\"\n",
        "print(midiccionario2.keys())\n",
        "\n",
        "#Si se quiere saber los valores del diccionario utilizamos el método \"values()\"\n",
        "print(midiccionario2.values())\n",
        "\n",
        "#Si se quiere saber la longitud del diccionario utilizamos el método \"len\", estos son las parejas asignadas (se reconocen por el \":\")\n",
        "print(len(midiccionario2))\n",
        "\n"
      ],
      "metadata": {
        "colab": {
          "base_uri": "https://localhost:8080/"
        },
        "id": "Ap0RNWBYZxGz",
        "outputId": "e038aef2-c6c4-4d87-a9c7-fc264fb7b8e7"
      },
      "execution_count": null,
      "outputs": [
        {
          "output_type": "stream",
          "name": "stdout",
          "text": [
            "{'Alemania': 'Berlín', 'Colombia': 'Bogotá', 'Espania': 'Madrid', 'Argentina': 'Buenos Aires', 'UK': 'Londres'}\n",
            "Berlín\n",
            "{'Alemania': 'Berlín', 'Colombia': 'Bogotá', 'Espania': 'Madrid', 'Argentina': 'Buenos Aires', 'UK': 'Londres', 'Italia': 'Roma'}\n",
            "{'Alemania': 'Berlín', 'Colombia': 'Bogotá', 'Argentina': 'Buenos Aires', 'UK': 'Londres', 'Italia': 'Roma'}\n",
            "{'Colombia': 'Bogotá', 29: 'Johan', 'Stefany': 16}\n",
            "('Colombia', 'Venezuela', 'Perú', 'Bolivia', 'Ecuador')\n",
            "{'Colombia': 'Bogotá', 'Venezuela': 'Caracas', 'Perú': 'La paz', 'Bolivia': 'Quito'}\n",
            "{'Nombre': 'Kawhy', 'Apellido': 'Leonar', 'Jersey': 2, 'Equipos': ['Spurs', 'Raptors', 'Clippers']}\n",
            "['Spurs', 'Raptors', 'Clippers']\n",
            "{'Nombre': 'Kawhy', 'Apellido': 'Leonar', 'Jersey': 2, 'Equipos': ['Spurs', 'Raptors', 'Clippers'], 'Títulos': {'Temporadas': [2014, 2019]}}\n",
            "{'Temporadas': [2014, 2019]}\n",
            "dict_keys(['Nombre', 'Apellido', 'Jersey', 'Equipos', 'Títulos'])\n",
            "dict_values(['Kawhy', 'Leonar', 2, ['Spurs', 'Raptors', 'Clippers'], {'Temporadas': [2014, 2019]}])\n",
            "5\n"
          ]
        }
      ]
    },
    {
      "cell_type": "code",
      "source": [
        "#####################################################  POO \n",
        "#Su intención es trasladar el comportamiento de los objetos de la vida real a nuestro código.\n",
        "\n",
        "## Conceptos o términos de la POO\n",
        "# Clase: \n",
        "#Es el modelo donde se redactan las características comunes de un grupo de objetos.\n",
        "#En el ejemplo del carro, la clase podría ser el chasis(estructura y no ID) y las ruedas ya que varios vehículos (principalmente por cada modelo y tipo) \n",
        "#utilizan el mismo chasis y las mismas ruedas. Por tanto, si se quiere realizar una aplicación que construya carros, lo primero es construir una clase que defina las características de esos carros a fabricar. \n",
        "#en este caso, tendría que tener en su interior la construcción del chasis yl as 4 ruedas.\n",
        "#\n",
        "\n",
        "# Ejemplar, instancia u objeto de clase: \n",
        "#Es un ejemplar u objeto perteneciente a una clase. En el ejemplo de los carros, los objetos o ejemplares de la clase pueden ser dos carros que usan el chasis y las ruedas, es decir, comparten las características de la clase (aunque no sean el mismo carro)\n",
        "\n",
        "# Modularización: \n",
        "#Un mismo programa de Python puede estar dividido en varias clases \n",
        "#Cada uno de estos módulos funciona de forma independiente, es decir, un módulo se puede implementar en diferentes programas. \n",
        "#Adicionalmente, si uno de estos no funciona, el resto sigue funcionando\n",
        "\n",
        "# Encapsulación\n",
        "# El funcionamiento interno de cada módulo no tiee \"nada que ver\" frente a los otros de por sí solo. Es decir, cada clase no sabe de las otras de por sí solas a menos que se conecten\n",
        "\n",
        "#Métodos de acceso\n",
        "#Son los \"cables\" que permiten la conexión entre diferentes clases.\n",
        "#Estos métodos solo tienen acceso a ciertas características que no se pueden manipular desde dichos métodos porque están encapsulados.\n",
        "\n",
        "#Nomenclatura del punto:\n",
        "#Sirve para acceder a las propiedades y comportamiento del objeto\n",
        "#micoche.color=\"rojo\" <- esto es una propiedad\n",
        "#micoche.arranca() <- esto es un comportamiento (qué puede hacer)\n",
        "\n",
        "\n",
        "\n",
        "\n",
        "##"
      ],
      "metadata": {
        "id": "VLrIQWHClpiI"
      },
      "execution_count": null,
      "outputs": []
    },
    {
      "cell_type": "code",
      "source": [
        "class Humano:                                              #Creo la clase Humano\n",
        "  def __init__(self):                                      #'Creo' el método __init__ para inicializar los parámetros, el 'self' permite que quien el objeto pueda ingresar a todos los métodos de la clase.\n",
        "    self.edad = 25                                         #Indico que el atributo \"edad\" en un inicio será 25 (Se inicia con edad 25 ya que en la plantilla (clase) ese será el valor por default)\n",
        "    print(\"soy un nuevo objeto \")                          #\n",
        "  \n",
        "  def hablar(self, mensaje):                               #El argumento 'mesnaje'\n",
        "      print(mensaje) \n",
        "\n",
        "Pedro = Humano()                                           #Estoy creando un objeto que tiene como plantilla los parámetros de la clase \"Humano\".\n",
        "Pablo = Humano()\n",
        "print(\"Soy Pedro y tengo \",Pedro.edad)\n",
        "print(\"Soy Pablo y tengo \",Pablo.edad)                     #Ambos quedan con 25 años porque el atributo se añadió así de manera general"
      ],
      "metadata": {
        "colab": {
          "base_uri": "https://localhost:8080/"
        },
        "id": "60pxbuSRlVr1",
        "outputId": "6d7cdf82-9e57-4b49-9919-bda9c068b80c"
      },
      "execution_count": null,
      "outputs": [
        {
          "output_type": "stream",
          "name": "stdout",
          "text": [
            "soy un nuevo objeto \n",
            "soy un nuevo objeto \n",
            "Soy Pedro y tengo  25\n",
            "Soy Pablo y tengo  25\n"
          ]
        }
      ]
    },
    {
      "cell_type": "code",
      "source": [
        "class Humano:                                              #Creo la clase Humano\n",
        "  def __init__(self,edad):                                 #Añado el argumento edad de maneraque pueda ser personalizada\n",
        "    self.edad = edad                                       #Indico que el atributo \"edad\" correspondealvalor de la variable \"edad\" y que se vuelve un argumento del método\n",
        "    print(\"soy un nuevo objeto \")                          #\n",
        "  \n",
        "  def hablar(self, mensaje):                               #El argumento 'mesnaje'\n",
        "      print(mensaje) \n",
        "\n",
        "Pedro = Humano(20)                                           #Estoy creando un objeto que tiene como plantilla los parámetros de la clase \"Humano\".\n",
        "Pablo = Humano(30)\n",
        "\n",
        "print(\"Soy Pedro y tengo \",Pedro.edad)\n",
        "print(\"Soy Pablo y tengo \",Pablo.edad) "
      ],
      "metadata": {
        "colab": {
          "base_uri": "https://localhost:8080/"
        },
        "id": "MlyuULvp8LBL",
        "outputId": "07a76c66-0ed4-4d33-b42e-541f8ad3ba79"
      },
      "execution_count": null,
      "outputs": [
        {
          "output_type": "stream",
          "name": "stdout",
          "text": [
            "soy un nuevo objeto \n",
            "soy un nuevo objeto \n",
            "Soy Pedro y tengo  20\n",
            "Soy Pablo y tengo  30\n"
          ]
        }
      ]
    },
    {
      "cell_type": "code",
      "source": [
        "Pablo.hablar(\"-Pedro que gusto de verte\")\n",
        "Pablo.hablar(\"-Supe que eras licenciado\")\n",
        "Pedro.hablar(\"-No sé cómo agradecerte\")\n",
        "Pablo.hablar(\"-No me agradezcas hermano\")\n",
        "Pedro.hablar(\"-Quiero decirte una cosa\")\n",
        "Pablo.hablar(\"-Habla te estoy escuchando\")\n",
        "Pedro.hablar(\"-Conocerás a mi esposa\")\n",
        "Pablo.hablar(\"-Es lo que estoy esperando\")"
      ],
      "metadata": {
        "colab": {
          "base_uri": "https://localhost:8080/"
        },
        "id": "J9gpWIYP6_VC",
        "outputId": "4d510b51-5c94-45ef-ade3-a49912128e6f"
      },
      "execution_count": null,
      "outputs": [
        {
          "output_type": "stream",
          "name": "stdout",
          "text": [
            "-Pedro que gusto de verte\n",
            "-Supe que eras licenciado\n",
            "-No sé cómo agradecerte\n",
            "-No me agradezcas hermano\n",
            "-Quiero decirte una cosa\n",
            "-Habla te estoy escuchando\n",
            "-Conocerás a mi esposa\n",
            "-Es lo que estoy esperando\n"
          ]
        }
      ]
    },
    {
      "cell_type": "code",
      "source": [
        "class Carros():                                     #construyo la clase Carros quecontendrálas características generales o molde para todos losobjetosque pertenezcan a la misma.\n",
        "  largo_Chasis=250                                  #Propiedades de los objetos de la clase que se dan por defecto\n",
        "  ancho_Chasis=120\n",
        "  num_ruedas=4\n",
        "  andando=False\n",
        "\n",
        "  def arrancar(self):                               #Se construye el método \"arrancar\"\n",
        "    pass                                            #Mientras se construye el código se coloca \"pass\" para que en la ejecución no se genere error.\n",
        "\n",
        "miCarrito=Carros()                                  #Se construye el primer objeto (vehículo)de la clase \"Carros\"\n",
        "print(\"El largo de mi carrito es \",miCarrito.ancho_Chasis,\"cm\")                       #Imprime el valor de la propiedad que se está consultando\n",
        "\n"
      ],
      "metadata": {
        "colab": {
          "base_uri": "https://localhost:8080/"
        },
        "id": "QdVN1Iq7k0_w",
        "outputId": "6e063379-e6d2-4143-9383-8b3ad5031dc8"
      },
      "execution_count": null,
      "outputs": [
        {
          "output_type": "stream",
          "name": "stdout",
          "text": [
            "El largo de mi carrito es  120 cm\n"
          ]
        }
      ]
    },
    {
      "cell_type": "code",
      "source": [],
      "metadata": {
        "id": "H_bwDXAaXGCT"
      },
      "execution_count": null,
      "outputs": []
    },
    {
      "cell_type": "code",
      "source": [],
      "metadata": {
        "id": "3nYoa-QYXFCz"
      },
      "execution_count": null,
      "outputs": []
    },
    {
      "cell_type": "code",
      "source": [],
      "metadata": {
        "id": "cz8yUVrLXB45"
      },
      "execution_count": null,
      "outputs": []
    },
    {
      "cell_type": "code",
      "source": [],
      "metadata": {
        "id": "aTIbKkHKW5gY"
      },
      "execution_count": null,
      "outputs": []
    },
    {
      "cell_type": "code",
      "source": [
        "[1,1]"
      ],
      "metadata": {
        "colab": {
          "base_uri": "https://localhost:8080/"
        },
        "id": "AA2re070lHHN",
        "outputId": "bae16187-a289-4693-e524-d1304fb32642"
      },
      "execution_count": null,
      "outputs": [
        {
          "output_type": "execute_result",
          "data": {
            "text/plain": [
              "[1, 1]"
            ]
          },
          "metadata": {},
          "execution_count": 17
        }
      ]
    },
    {
      "cell_type": "code",
      "source": [],
      "metadata": {
        "id": "G9n1UouSIuDb"
      },
      "execution_count": null,
      "outputs": []
    },
    {
      "cell_type": "code",
      "source": [],
      "metadata": {
        "id": "Nj7MjJjmlChj"
      },
      "execution_count": null,
      "outputs": []
    },
    {
      "cell_type": "code",
      "source": [],
      "metadata": {
        "id": "MaZtMtKRkr35"
      },
      "execution_count": null,
      "outputs": []
    },
    {
      "cell_type": "code",
      "source": [],
      "metadata": {
        "id": "TjwsZlX_kmZS"
      },
      "execution_count": null,
      "outputs": []
    },
    {
      "cell_type": "code",
      "source": [],
      "metadata": {
        "id": "OG1Lb9SgkiCj"
      },
      "execution_count": null,
      "outputs": []
    },
    {
      "cell_type": "code",
      "source": [],
      "metadata": {
        "id": "L0vbn1EFjc1f"
      },
      "execution_count": null,
      "outputs": []
    },
    {
      "cell_type": "code",
      "source": [],
      "metadata": {
        "id": "u3KM6zIag9Vh"
      },
      "execution_count": null,
      "outputs": []
    },
    {
      "cell_type": "code",
      "source": [],
      "metadata": {
        "id": "ywcyah2fg4Of"
      },
      "execution_count": null,
      "outputs": []
    },
    {
      "cell_type": "code",
      "source": [],
      "metadata": {
        "id": "M53XMNhhgSKj"
      },
      "execution_count": null,
      "outputs": []
    },
    {
      "cell_type": "code",
      "source": [],
      "metadata": {
        "id": "c2VPOJCHfr76"
      },
      "execution_count": null,
      "outputs": []
    },
    {
      "cell_type": "code",
      "source": [],
      "metadata": {
        "id": "viNS2dU3fQna"
      },
      "execution_count": null,
      "outputs": []
    },
    {
      "cell_type": "code",
      "source": [],
      "metadata": {
        "id": "b1M5E_mTe61P"
      },
      "execution_count": null,
      "outputs": []
    },
    {
      "cell_type": "code",
      "source": [],
      "metadata": {
        "id": "1mj-WM3ee2lo"
      },
      "execution_count": null,
      "outputs": []
    },
    {
      "cell_type": "code",
      "source": [],
      "metadata": {
        "id": "9MwAoam1eeGI"
      },
      "execution_count": null,
      "outputs": []
    },
    {
      "cell_type": "code",
      "source": [],
      "metadata": {
        "id": "9NyJxSafeAtz"
      },
      "execution_count": null,
      "outputs": []
    },
    {
      "cell_type": "code",
      "source": [],
      "metadata": {
        "id": "KSOqRrkUc-QM"
      },
      "execution_count": null,
      "outputs": []
    },
    {
      "cell_type": "code",
      "source": [],
      "metadata": {
        "id": "rRC1dqHGc6N5"
      },
      "execution_count": null,
      "outputs": []
    },
    {
      "cell_type": "code",
      "source": [],
      "metadata": {
        "id": "8vZ2_nYNZm2i"
      },
      "execution_count": null,
      "outputs": []
    },
    {
      "cell_type": "code",
      "source": [],
      "metadata": {
        "id": "VCIN8KSNY7V8"
      },
      "execution_count": null,
      "outputs": []
    },
    {
      "cell_type": "code",
      "source": [],
      "metadata": {
        "id": "3pWMhGbvY4Gi"
      },
      "execution_count": null,
      "outputs": []
    },
    {
      "cell_type": "code",
      "source": [],
      "metadata": {
        "id": "zebENPHkYlFj"
      },
      "execution_count": null,
      "outputs": []
    },
    {
      "cell_type": "code",
      "source": [],
      "metadata": {
        "id": "cAtNOboaYfXQ"
      },
      "execution_count": null,
      "outputs": []
    },
    {
      "cell_type": "code",
      "source": [],
      "metadata": {
        "id": "HaYOthhRYIN7"
      },
      "execution_count": null,
      "outputs": []
    },
    {
      "cell_type": "code",
      "source": [],
      "metadata": {
        "id": "zeTWB3vEXmST"
      },
      "execution_count": null,
      "outputs": []
    },
    {
      "cell_type": "code",
      "source": [],
      "metadata": {
        "id": "_j2L5rP7XNcJ"
      },
      "execution_count": null,
      "outputs": []
    },
    {
      "cell_type": "code",
      "source": [],
      "metadata": {
        "id": "nBjl4R9-XKXM"
      },
      "execution_count": null,
      "outputs": []
    },
    {
      "cell_type": "code",
      "source": [],
      "metadata": {
        "id": "MCTCUofdWxoY"
      },
      "execution_count": null,
      "outputs": []
    },
    {
      "cell_type": "code",
      "source": [],
      "metadata": {
        "id": "OO_Z3xo4WvAf"
      },
      "execution_count": null,
      "outputs": []
    },
    {
      "cell_type": "code",
      "source": [],
      "metadata": {
        "id": "nkoiui8MWRHE"
      },
      "execution_count": null,
      "outputs": []
    },
    {
      "cell_type": "code",
      "source": [],
      "metadata": {
        "id": "_DsH8xMtWMJq"
      },
      "execution_count": null,
      "outputs": []
    },
    {
      "cell_type": "code",
      "source": [],
      "metadata": {
        "id": "xEvD2TRKWIyu"
      },
      "execution_count": null,
      "outputs": []
    },
    {
      "cell_type": "code",
      "source": [],
      "metadata": {
        "id": "bt67AXbCS-6E"
      },
      "execution_count": null,
      "outputs": []
    },
    {
      "cell_type": "code",
      "source": [],
      "metadata": {
        "id": "cl05F-QNS7rZ"
      },
      "execution_count": null,
      "outputs": []
    },
    {
      "cell_type": "code",
      "source": [],
      "metadata": {
        "id": "OsV_5F3kSNBc"
      },
      "execution_count": null,
      "outputs": []
    },
    {
      "cell_type": "code",
      "source": [],
      "metadata": {
        "id": "8mwI_PivRAU2"
      },
      "execution_count": null,
      "outputs": []
    },
    {
      "cell_type": "code",
      "source": [],
      "metadata": {
        "id": "YPs4xRKlQo7U"
      },
      "execution_count": null,
      "outputs": []
    },
    {
      "cell_type": "code",
      "source": [],
      "metadata": {
        "id": "kqZMv-5RQkvA"
      },
      "execution_count": null,
      "outputs": []
    },
    {
      "cell_type": "code",
      "source": [],
      "metadata": {
        "id": "wxbpjhJEQUl0"
      },
      "execution_count": null,
      "outputs": []
    },
    {
      "cell_type": "code",
      "source": [],
      "metadata": {
        "id": "IM0y1G4nPlUT"
      },
      "execution_count": null,
      "outputs": []
    },
    {
      "cell_type": "code",
      "source": [],
      "metadata": {
        "id": "Cz2cYIJdPiv7"
      },
      "execution_count": null,
      "outputs": []
    },
    {
      "cell_type": "code",
      "source": [],
      "metadata": {
        "id": "lu5EMHbHPEbs"
      },
      "execution_count": null,
      "outputs": []
    },
    {
      "cell_type": "code",
      "source": [],
      "metadata": {
        "id": "plxsgibAO5w9"
      },
      "execution_count": null,
      "outputs": []
    },
    {
      "cell_type": "code",
      "source": [],
      "metadata": {
        "id": "XNytpgjwOsvD"
      },
      "execution_count": null,
      "outputs": []
    },
    {
      "cell_type": "code",
      "source": [],
      "metadata": {
        "id": "VZ-J2YthOIeh"
      },
      "execution_count": null,
      "outputs": []
    },
    {
      "cell_type": "code",
      "source": [],
      "metadata": {
        "id": "R84AmsGmNjky"
      },
      "execution_count": null,
      "outputs": []
    },
    {
      "cell_type": "code",
      "source": [],
      "metadata": {
        "id": "31CfCNXDNgYI"
      },
      "execution_count": null,
      "outputs": []
    },
    {
      "cell_type": "code",
      "source": [],
      "metadata": {
        "id": "mpoeOEhQNJQI"
      },
      "execution_count": null,
      "outputs": []
    },
    {
      "cell_type": "code",
      "source": [],
      "metadata": {
        "id": "OIEtz0sJNGaK"
      },
      "execution_count": null,
      "outputs": []
    },
    {
      "cell_type": "code",
      "source": [],
      "metadata": {
        "id": "0w7JujLLMaA3"
      },
      "execution_count": null,
      "outputs": []
    },
    {
      "cell_type": "code",
      "source": [],
      "metadata": {
        "id": "DtRw88N-MPqX"
      },
      "execution_count": null,
      "outputs": []
    },
    {
      "cell_type": "code",
      "source": [],
      "metadata": {
        "id": "LNhK7EZUMKDa"
      },
      "execution_count": null,
      "outputs": []
    },
    {
      "cell_type": "code",
      "source": [],
      "metadata": {
        "id": "I8VOtg2pL93B"
      },
      "execution_count": null,
      "outputs": []
    },
    {
      "cell_type": "code",
      "source": [],
      "metadata": {
        "id": "57WvSTPFLvnd"
      },
      "execution_count": null,
      "outputs": []
    },
    {
      "cell_type": "code",
      "source": [],
      "metadata": {
        "id": "yrhIFC2iLbGK"
      },
      "execution_count": null,
      "outputs": []
    },
    {
      "cell_type": "code",
      "source": [],
      "metadata": {
        "id": "G7vB7hM2K2im"
      },
      "execution_count": null,
      "outputs": []
    },
    {
      "cell_type": "code",
      "source": [],
      "metadata": {
        "id": "FtlbbWd9Kv3N"
      },
      "execution_count": null,
      "outputs": []
    },
    {
      "cell_type": "code",
      "source": [],
      "metadata": {
        "id": "UpHkz9IlGrKF"
      },
      "execution_count": null,
      "outputs": []
    },
    {
      "cell_type": "code",
      "source": [],
      "metadata": {
        "id": "_tsPJqhqGclG"
      },
      "execution_count": null,
      "outputs": []
    },
    {
      "cell_type": "code",
      "source": [],
      "metadata": {
        "id": "mq8SMd6xGVm1"
      },
      "execution_count": null,
      "outputs": []
    },
    {
      "cell_type": "code",
      "source": [],
      "metadata": {
        "id": "yUREOFtWGRxg"
      },
      "execution_count": null,
      "outputs": []
    },
    {
      "cell_type": "code",
      "source": [],
      "metadata": {
        "id": "deIQ19lfFPC5"
      },
      "execution_count": null,
      "outputs": []
    },
    {
      "cell_type": "code",
      "source": [],
      "metadata": {
        "id": "Sw3ljKdMFNEJ"
      },
      "execution_count": null,
      "outputs": []
    },
    {
      "cell_type": "code",
      "source": [],
      "metadata": {
        "id": "G_PG4cETFIna"
      },
      "execution_count": null,
      "outputs": []
    },
    {
      "cell_type": "code",
      "source": [],
      "metadata": {
        "id": "LtZp3s7FFCDH"
      },
      "execution_count": null,
      "outputs": []
    },
    {
      "cell_type": "code",
      "source": [],
      "metadata": {
        "id": "q2drm-yUE_wo"
      },
      "execution_count": null,
      "outputs": []
    },
    {
      "cell_type": "code",
      "source": [],
      "metadata": {
        "id": "vflOmuJwE2lP"
      },
      "execution_count": null,
      "outputs": []
    },
    {
      "cell_type": "code",
      "source": [],
      "metadata": {
        "id": "SzvtQ0gVE0ib"
      },
      "execution_count": null,
      "outputs": []
    },
    {
      "cell_type": "code",
      "source": [],
      "metadata": {
        "id": "S66znge2EtyO"
      },
      "execution_count": null,
      "outputs": []
    },
    {
      "cell_type": "code",
      "source": [],
      "metadata": {
        "id": "YpjWXdMSEfs3"
      },
      "execution_count": null,
      "outputs": []
    },
    {
      "cell_type": "code",
      "source": [],
      "metadata": {
        "id": "suIhRXxzEZfw"
      },
      "execution_count": null,
      "outputs": []
    },
    {
      "cell_type": "code",
      "source": [],
      "metadata": {
        "id": "a8t7l340ERSm"
      },
      "execution_count": null,
      "outputs": []
    },
    {
      "cell_type": "code",
      "source": [],
      "metadata": {
        "id": "T8hWYsMMDeB2"
      },
      "execution_count": null,
      "outputs": []
    },
    {
      "cell_type": "code",
      "source": [],
      "metadata": {
        "id": "SpXqUWuCDbSe"
      },
      "execution_count": null,
      "outputs": []
    },
    {
      "cell_type": "code",
      "source": [],
      "metadata": {
        "id": "ynPuTcDyCx4L"
      },
      "execution_count": null,
      "outputs": []
    },
    {
      "cell_type": "code",
      "source": [],
      "metadata": {
        "id": "EQPayTVRCqDv"
      },
      "execution_count": null,
      "outputs": []
    },
    {
      "cell_type": "code",
      "source": [
        "funcion_imprimir()"
      ],
      "metadata": {
        "colab": {
          "base_uri": "https://localhost:8080/"
        },
        "id": "HzBfS4vr_0qH",
        "outputId": "603a0729-e26b-4cc6-f77d-3287081b2e49"
      },
      "execution_count": null,
      "outputs": [
        {
          "output_type": "stream",
          "name": "stdout",
          "text": [
            "estoy aprendiendo Python modo dummie\n",
            "poco a poco reviso cosas básicas\n",
            "Ojalá me rinda y saque el taller de ML pronto!\n",
            "aiudaaaaaaaaaaaaaaa\n"
          ]
        }
      ]
    },
    {
      "cell_type": "code",
      "source": [],
      "metadata": {
        "id": "VWMFNwXGAJdF"
      },
      "execution_count": null,
      "outputs": []
    },
    {
      "cell_type": "code",
      "source": [],
      "metadata": {
        "id": "cwIfr-jr_9v-"
      },
      "execution_count": null,
      "outputs": []
    }
  ]
}